{
 "cells": [
  {
   "cell_type": "markdown",
   "metadata": {
    "collapsed": true
   },
   "source": [
    "本节介绍了刚性方程求解数值方法\n",
    "\n",
    "本文用到python的sympy库进行符号运算，\n",
    "可以到第一章进行了解。\n",
    "\n",
    "原创内容,如需转载需征得作者同意。\n",
    "\n",
    "Copyright©2020 lizhemin\n",
    "***"
   ]
  },
  {
   "cell_type": "markdown",
   "metadata": {
    "collapsed": true
   },
   "source": [
    "1.用改进欧拉法求下列初值问题近似解\n",
    "(a)$y'=\\left(\\frac{y}{t}\\right)^{2}+\\left(\\frac{y}{t}\\right), 1 \\leqslant t \\leqslant 1.2, \\quad y(1)=1$取$h=0.1$\n",
    "\n",
    "(b)$y'=\\sin t+e^{-t},0\\leq t \\leq 1,y(0)=0$取$h=0.5$"
   ]
  },
  {
   "cell_type": "markdown",
   "metadata": {},
   "source": [
    "2.用4阶RK方法求上题的数值解"
   ]
  },
  {
   "cell_type": "markdown",
   "metadata": {},
   "source": [
    "3.用阿当姆斯显式方法与隐式方法求下列初值问题的数值解\n",
    "\n",
    "(a)$y'=-y+i+1,0\\leq i\\leq 2,y(0)=2$取$h=0.2$\n",
    "\n",
    "(b)$y'=\\frac{2}{i}y+t^2e^i,1\\leq i\\leq 2,y(1)=0$取$h=0.05$"
   ]
  },
  {
   "cell_type": "code",
   "execution_count": null,
   "metadata": {
    "collapsed": true
   },
   "outputs": [],
   "source": []
  }
 ],
 "metadata": {
  "kernelspec": {
   "display_name": "Python 3",
   "language": "python",
   "name": "python3"
  },
  "language_info": {
   "codemirror_mode": {
    "name": "ipython",
    "version": 3
   },
   "file_extension": ".py",
   "mimetype": "text/x-python",
   "name": "python",
   "nbconvert_exporter": "python",
   "pygments_lexer": "ipython3",
   "version": "3.6.2"
  }
 },
 "nbformat": 4,
 "nbformat_minor": 2
}
