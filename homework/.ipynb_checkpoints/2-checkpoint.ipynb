{
 "cells": [
  {
   "cell_type": "markdown",
   "metadata": {
    "collapsed": true
   },
   "source": [
    "本节为《高等数值分析》大作业\n",
    "\n",
    "本文用到python的sympy库进行符号运算，\n",
    "可以到第一章进行了解。\n",
    "\n",
    "原创内容,如需转载需征得作者同意。\n",
    "\n",
    "Copyright©2020 lizhemin\n",
    "***"
   ]
  },
  {
   "cell_type": "markdown",
   "metadata": {
    "collapsed": true
   },
   "source": [
    "题目一：利用Newton法、简化Newton法，及其Newton法的各种改进形式(至少选一种)计算非线性方程组\n",
    "$$\\left\\{\\begin{array}{l}\n",
    "3 x_{1}-\\cos \\left(x_{2} x_{3}\\right)-\\frac{1}{2}=0 \\\\\n",
    "x_{1}^{2}-81\\left(x_{2}+0.1\\right)^{2}+\\sin x_{3}+1.06=0 \\\\\n",
    "e^{-x_{1} x_{2}}+20 x_{3}+\\frac{10 \\pi-3}{3}=0\n",
    "\\end{array}\\right.$$\n",
    "取初值$x^{(0)}=(0.1,0.1,-0.1)^T$，同时自行选择其它初值(至少三组)，并设计迭代算法，在达到相同精度的前提下，比较其迭代次数、浮点运算次数和CPU时间等，对比分析各算法在不同初值条件下的优劣。"
   ]
  },
  {
   "cell_type": "code",
   "execution_count": 4,
   "metadata": {},
   "outputs": [
    {
     "name": "stdout",
     "output_type": "stream",
     "text": [
      "newton: [[ 5.00000000e-01]\n",
      " [ 7.50529404e-19]\n",
      " [-5.23598776e-01]]\n",
      "time cost 0.291001558303833 s\n",
      "easy_newton: [[ 0.49986967]\n",
      " [ 0.01946685]\n",
      " [-0.52152047]]\n",
      "time cost 0.08701729774475098 s\n",
      "modify_newton: [[ 5.00000000e-01]\n",
      " [-2.26459177e-18]\n",
      " [-5.23598776e-01]]\n",
      "time cost 0.8489868640899658 s\n"
     ]
    }
   ],
   "source": [
    "import numpy as np\n",
    "import sympy as sp\n",
    "import copy\n",
    "import time\n",
    "\n",
    "def newton(g,x0,error):\n",
    "    x_old = copy.copy(x0)\n",
    "    x_new = n_1(g,x_old)\n",
    "    while np.sqrt(np.mean((x_old-x_new)**2))>error:\n",
    "        x_old = copy.copy(x_new)\n",
    "        x_new = n_1(g,x_old)\n",
    "    return x_new\n",
    "\n",
    "def inverse(g,x):\n",
    "    L = len(g)\n",
    "    inver = np.zeros((L,L))\n",
    "    value_dict = {}\n",
    "    for i in range(L):\n",
    "        value_dict['x'+str(i+1)] = x[i]\n",
    "    for i in range(L):\n",
    "        for j in range(L):\n",
    "            diff_func = eval('sp.diff(g[i],x'+str(j+1)+')')\n",
    "            inver[i,j] = diff_func.evalf(subs=value_dict)\n",
    "    inver = np.matrix(inver)\n",
    "    inver = np.linalg.pinv(inver)\n",
    "    return np.array(inver)\n",
    "\n",
    "def n_1(g,x):\n",
    "    L = len(g)\n",
    "    g_x = np.zeros((L,1))\n",
    "    value_dict = {}\n",
    "    for i in range(L):\n",
    "        value_dict['x'+str(i+1)] = x[i]\n",
    "    for i in range(L):\n",
    "        g_x[i] = g[i].evalf(subs=value_dict)\n",
    "    return x-np.dot(inverse(g,x),g_x)\n",
    "\n",
    "def easy_newton(g,x0,error):\n",
    "    x_old = copy.copy(x0)\n",
    "    x_new = n_1(g,x0)\n",
    "    while np.sqrt(np.mean((x_old-x_new)**2))>error:\n",
    "        x_old = copy.copy(x_new)\n",
    "        x_new = n_1(g,x0)\n",
    "    return x_new\n",
    "\n",
    "def modify_newton(g,x0,error,m=3):\n",
    "    x_old = copy.copy(x0)\n",
    "    x_new = copy.copy(x0)\n",
    "    for i in range(m):\n",
    "        x_new = x_new-np.dot(inverse(g,x_old),get_g(g,x_new))\n",
    "    while np.sqrt(np.mean((x_old-x_new)**2))>error:\n",
    "        x_old = copy.copy(x_new)\n",
    "        for i in range(m):\n",
    "            x_new = x_new-np.dot(inverse(g,x_old),get_g(g,x_new))\n",
    "    return x_new\n",
    "\n",
    "def get_g(g,x):\n",
    "    L = len(g)\n",
    "    g_x = np.zeros((L,1))\n",
    "    value_dict = {}\n",
    "    for i in range(L):\n",
    "        value_dict['x'+str(i+1)] = x[i]\n",
    "    for i in range(L):\n",
    "        g_x[i] = g[i].evalf(subs=value_dict)\n",
    "    return g_x\n",
    "\n",
    "x1 = sp.Symbol('x1')\n",
    "x2 = sp.Symbol('x2')\n",
    "x3 = sp.Symbol('x3')\n",
    "\n",
    "f1 = 3*x1-sp.cos(x2*x3)-1/2\n",
    "f2 = x1**2-81*(x2+0.1)**2+sp.sin(x3)+1.06\n",
    "f3 = sp.exp(-x1*x2)+20*x3+(10*sp.pi-3)/3\n",
    "\n",
    "f = (f1,f2,f3)\n",
    "\n",
    "time_start=time.time()\n",
    "print('newton:',newton(f,np.array([[0.1],[0.1],[-0.1]]),5e-6))\n",
    "time_end=time.time()\n",
    "print('time cost',time_end-time_start,'s')\n",
    "\n",
    "time_start=time.time()\n",
    "print('easy_newton:',easy_newton(f,np.array([[0.1],[0.1],[-0.1]]),5e-6))\n",
    "time_end=time.time()\n",
    "print('time cost',time_end-time_start,'s')\n",
    "\n",
    "time_start=time.time()\n",
    "print('modify_newton:',modify_newton(f,np.array([[0.1],[0.1],[-0.1]]),5e-6))\n",
    "time_end=time.time()\n",
    "print('time cost',time_end-time_start,'s')\n",
    "\n",
    "\n",
    "\n"
   ]
  },
  {
   "cell_type": "markdown",
   "metadata": {},
   "source": [
    "题目二(理论题)：称形如\n",
    "$$I(f)=\\int_{a}^{b} \\frac{f(x)}{\\sqrt{x-a}} d x$$\n",
    "的积分为带权$\\frac{1}{\\sqrt{x-a}}$的积分。设$x_0,x_1,\\ldots,x_m$为区间$[a,b]$中的$m+1$个互异点，$A_0,A_1,\\ldots,A_m$为$m+1$个与$f(x)$无关的常数。现设\n",
    "$$h=(b-a) / m, \\quad x_{i}=a+i h, \\quad 0 \\leq i \\leq m$$\n",
    "应用插值多项式的有关结果构造一个计算$I(f)$的数值积分公式\n",
    "$$I_{N}(f)=\\sum_{i=0}^{m} A_{i} f\\left(x_{i}\\right)$$\n",
    "(写出$A_i$的表达式即可)，要求该公式至少是二阶的，并给出其截断误差$I(f)-I_N(f)$的形如$c\\|f^{(p)}\\|_{\\infty}h^k$的估计式，其中$c$为常数，$p$和$k$为正整数，$\\|f^{(p)}\\|_{\\infty}=max_{a\\leq x\\leq b}|f^{(p)}(x)|$"
   ]
  },
  {
   "cell_type": "markdown",
   "metadata": {},
   "source": [
    "***\n",
    "会用到范德蒙行列式求逆[inverse](https://ccjou.wordpress.com/2012/06/13/vandermonde-%E7%9F%A9%E9%99%A3%E7%9A%84%E9%80%86%E7%9F%A9%E9%99%A3%E5%85%AC%E5%BC%8F/)\n",
    "***"
   ]
  },
  {
   "cell_type": "markdown",
   "metadata": {},
   "source": [
    "**引理：**给定范德蒙矩阵\n",
    "$$V=\\left[\\begin{array}{cccc}\n",
    "1 & 1 & \\cdots & 1 \\\\\n",
    "x_{1} & x_{2} & \\cdots & x_{n} \\\\\n",
    "x_{1}^{2} & x_{2}^{2} & \\cdots & x_{n}^{2} \\\\\n",
    "\\vdots & \\vdots & \\vdots & \\vdots \\\\\n",
    "x_{1}^{n-1} & x_{2}^{n-1} & \\cdots & x_{n}^{n-1}\n",
    "\\end{array}\\right]$$\n",
    "$(V^{-1})_{ij}=(-1)^{j+1} \\sum_{1 \\leq p_{1}<\\cdots, \\ldots p_{n-j \\leq n} \\atop p_{1}, \\ldots, p_{n-j} \\neq i} x_{p_{1}} x_{p_{2}} \\cdots x_{p_{n-j}} / \\prod_{1 \\leq p \\leq n \\atop p \\neq i}\\left(x_{p}-x_{i}\\right)$"
   ]
  },
  {
   "cell_type": "markdown",
   "metadata": {},
   "source": [
    "**分析：**由代数精度的定义，对于$k$阶求积分公式，只需找到的$A_i$使得$I(x^j)=\\int_a^b\\frac{x^j}{\\sqrt{x-a}}dx=I_N(x^j)=\\sum_{i=0}^m A_i x_i^j,j=0,1,\\ldots,k$成立即可。\n",
    "我们直接分析$k=m$时的情况，此时相当于求解矩阵方程$VA=I_N$\n",
    "其中\n",
    "$$V=\\left[\\begin{array}{cccc}\n",
    "1 & 1 & \\cdots & 1 \\\\\n",
    "x_{0} & x_{1} & \\cdots & x_{m} \\\\\n",
    "x_{0}^{2} & x_{1}^{2} & \\cdots & x_{m}^{2} \\\\\n",
    "\\vdots & \\vdots & \\vdots & \\vdots \\\\\n",
    "x_{0}^{m} & x_{1}^{m} & \\cdots & x_{m}^{m}\n",
    "\\end{array}\\right]$$\n",
    "$A=(A_0,A_1,\\ldots,A_m)^T$,$I_N=(I_N(1),I_N(x),\\ldots,I_N(x^m))^T$"
   ]
  },
  {
   "cell_type": "markdown",
   "metadata": {},
   "source": [
    "由于$x_i,i=0,1,\\ldots,m$互异，又由于$V$为范德蒙行列式，此时行列式不为零，即可逆，且逆矩阵的元素可由引理得到。\n",
    "\n",
    "现在计算$I_N(x^k)=\\int_a^b\\frac{x^k}{\\sqrt{x-a}}dx$，\n",
    "令$t=\\sqrt{x-a}$得$I_N(x^k)=\\int_0^{\\sqrt{b-a}}2(a+t^2)^kdt$\n",
    "\n",
    "可以求解出$A=V^{-1}I_N$,其表达式与$f(x)$无关。"
   ]
  },
  {
   "cell_type": "markdown",
   "metadata": {},
   "source": [
    "之前确定的$A$使得求积公式对$m$阶多项式均精确成立，那么通过拉格朗日对点$x_i$插值得到$L_m(x)=I_N(f)$，于是有\n",
    "$f(x)=L_m(x)+\\frac{f^{(m+1)(\\xi)}}{(m+1)!}\\omega_{m+1}(x),\\xi\\in(a,b)$\n",
    "两边同时乘以$\\frac{1}{\\sqrt{x-a}}$后对$x$从$a$到$b$进行积分。\n",
    "有积分第一中值定理得$\\left\\|\\int_a^b\\prod_{i=0}^m(x-x_i)\\frac{1}{\\sqrt{x-a}}dx\\right\\|=\\left\\|\\prod_{i=0}^m(\\xi_0-x_i)\\cdot \\int_a^b\\frac{1}{\\sqrt{x-a}}dx\\right\\|\\leq2\\sqrt{b-a}(m+1)!h^{m+1}$"
   ]
  },
  {
   "cell_type": "markdown",
   "metadata": {},
   "source": [
    "$\\left\\|I(f)-I_N(f)\\right\\|\\leq\\left\\|f^{(m+1)}\\right\\|_{\\infty}\\cdot 2\\sqrt{b-a} (m+1)! h^{m+1}\\cdot \\frac{1}{(m+1)!}$\n",
    "令$c=2\\sqrt{b-a}$则$\\left\\|I(f)-I_N(f)\\right\\|\\leq c\\left\\|f^{(m+1)}\\right\\|_{\\infty}h^{m+1}$"
   ]
  },
  {
   "cell_type": "code",
   "execution_count": null,
   "metadata": {
    "collapsed": true
   },
   "outputs": [],
   "source": []
  }
 ],
 "metadata": {
  "kernelspec": {
   "display_name": "Python 3",
   "language": "python",
   "name": "python3"
  },
  "language_info": {
   "codemirror_mode": {
    "name": "ipython",
    "version": 3
   },
   "file_extension": ".py",
   "mimetype": "text/x-python",
   "name": "python",
   "nbconvert_exporter": "python",
   "pygments_lexer": "ipython3",
   "version": "3.6.2"
  }
 },
 "nbformat": 4,
 "nbformat_minor": 2
}
