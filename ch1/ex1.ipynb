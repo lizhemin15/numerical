{
 "cells": [
  {
   "cell_type": "markdown",
   "metadata": {
    "collapsed": true
   },
   "source": [
    "本节介绍了**模型误差,观测误差,截断误差,方法误差,舍入误差,病态问题,条件数,数值稳定性**.\n",
    "详情见[《现代数值分析》 一、引论](https://www.jianshu.com/p/4d57905d401e)\n",
    "\n",
    "本文用到python的sympy库进行符号运算，\n",
    "未安装的同学可以使用\n",
    "```\n",
    "pip install sympy\n",
    "```\n",
    "进行安装.关于sympy教程可以自行搜索,这里给出一份[文档](https://docs.sympy.org/latest/index.html).\n",
    "[这个更加实用](https://geek-docs.com/python/python-tutorial/python-sympy.html)\n",
    "常用命令直接看本文代码应当也不难理解.\n",
    "\n",
    "原创内容,如需转载需征得作者同意。\n",
    "\n",
    "Copyright©2009 lizhemin"
   ]
  },
  {
   "cell_type": "code",
   "execution_count": 1,
   "metadata": {},
   "outputs": [
    {
     "name": "stdout",
     "output_type": "stream",
     "text": [
      "-1\n",
      "E\n",
      "0\n",
      "pi\n"
     ]
    }
   ],
   "source": [
    "#内置符号说明\n",
    "import sympy as sp\n",
    "#虚数单位\n",
    "print(sp.I**2)\n",
    "#科学常数\n",
    "print(sp.E)\n",
    "#无穷大\n",
    "print(1/sp.oo)\n",
    "#pi\n",
    "print(sp.pi)"
   ]
  },
  {
   "cell_type": "code",
   "execution_count": 11,
   "metadata": {},
   "outputs": [
    {
     "name": "stdout",
     "output_type": "stream",
     "text": [
      "I\n",
      "3\n",
      "2\n",
      "3628800\n",
      "0\n"
     ]
    }
   ],
   "source": [
    "#常用运算\n",
    "#开方\n",
    "print(sp.sqrt(-1))\n",
    "#对数运算,写一项时默认以e为基地\n",
    "print(sp.log(1000,10))\n",
    "#开根号\n",
    "print(sp.root(8,3))\n",
    "#阶乘\n",
    "print(sp.factorial(10))\n",
    "#三角函数,此处以sin为例\n",
    "print(sp.sin(sp.pi))"
   ]
  },
  {
   "cell_type": "code",
   "execution_count": 16,
   "metadata": {},
   "outputs": [
    {
     "name": "stdout",
     "output_type": "stream",
     "text": [
      "5.00000000000000\n",
      "3.00000000000000\n",
      "0.500000000000000\n"
     ]
    }
   ],
   "source": [
    "#表达式与表达式求值\n",
    "import numpy as np\n",
    "x = sp.Symbol('x')\n",
    "fx = 2*x+1\n",
    "print(fx.evalf(subs={x:2}))\n",
    "#导入多个\n",
    "i,j = sp.symbols('i j')\n",
    "gx = i+j\n",
    "sp.pprint(gx.evalf(subs={i:1,j:2}))\n",
    "#从sympy.abc导入\n",
    "from sympy.abc import x,y\n",
    "hx = x/y\n",
    "sp.pprint(hx.evalf(subs={x:1,y:2}))"
   ]
  },
  {
   "cell_type": "code",
   "execution_count": 11,
   "metadata": {},
   "outputs": [
    {
     "name": "stdout",
     "output_type": "stream",
     "text": [
      "0.300000000000000\n",
      "0.30000000000000004\n",
      "exp(2*x) + 1/x\n",
      " 2⋅x   1\n",
      "ℯ    + ─\n",
      "       x\n"
     ]
    }
   ],
   "source": [
    "#一个小例子说明符号运算的好处\n",
    "r = sp.Rational(1/10)\n",
    "val = 3*r\n",
    "sp.pprint(val.evalf())\n",
    "sp.pprint(1/10*3)\n",
    "#pprint可用于美化输出，类似于latex的输出,某些字符maybe需要unicode编码支持\n",
    "sp.init_printing(use_unicode=True)\n",
    "x = sp.Symbol('x')\n",
    "c = (sp.exp(x)**2+1/x)\n",
    "print(c)\n",
    "sp.pprint(c)"
   ]
  },
  {
   "cell_type": "code",
   "execution_count": 22,
   "metadata": {},
   "outputs": [
    {
     "name": "stdout",
     "output_type": "stream",
     "text": [
      "2⋅a⋅b + 3⋅a + 4⋅b\n",
      " 2          \n",
      "x  + 2⋅x + 1\n",
      "tan(x)\n",
      "True\n"
     ]
    }
   ],
   "source": [
    "#表达式操作\n",
    "#自动规范表达式\n",
    "from sympy.abc import a, b\n",
    "expr = b*a + -4*a + b + a*b + 4*a + (a + b)*3\n",
    "sp.pprint(expr)\n",
    "#展开表达式\n",
    "expr = (x + 1) ** 2\n",
    "sp.pprint(sp.expand(expr))\n",
    "#简化表达式\n",
    "expr = sp.sin(x)/sp.cos(x)\n",
    "sp.pprint(sp.simplify(expr))\n",
    "#比较表达式\n",
    "a = sp.cos(x)**2 - sp.sin(x)**2\n",
    "b = sp.cos(2*x)\n",
    "print(a.equals(b))\n"
   ]
  },
  {
   "cell_type": "code",
   "execution_count": 37,
   "metadata": {},
   "outputs": [
    {
     "name": "stdout",
     "output_type": "stream",
     "text": [
      "29\n",
      "[0, 1]\n",
      "<class 'list'>\n",
      "x + 1 = 4\n",
      "[3]\n",
      "{1}\n"
     ]
    }
   ],
   "source": [
    "#通过替换值来求表达式\n",
    "from sympy.abc import a, b\n",
    "expr = b*a + -4*a + b + a*b + 4*a + (a + b)*3\n",
    "sp.pprint(expr.subs([(a, 3), (b, 2)]))\n",
    "#求解方程\n",
    "x = sp.Symbol('x')\n",
    "sol = sp.solve(x**2 - x, x)\n",
    "print(sol)\n",
    "#或者写成公式的形式\n",
    "eq1 = sp.Eq(x + 1, 4)\n",
    "sp.pprint(eq1)\n",
    "sol = sp.solve(eq1, x)\n",
    "print(sol)\n",
    "#给定区间的解\n",
    "sol = sp.solveset(x**2 - 1, x, sp.Interval(0, 100))\n",
    "print(sol)"
   ]
  },
  {
   "cell_type": "code",
   "execution_count": 39,
   "metadata": {},
   "outputs": [
    {
     "name": "stdout",
     "output_type": "stream",
     "text": [
      "SeqFormula(x, (x, 1, 10))\n",
      "[1, 2, 3, 4, …]\n",
      "[1, 2, 3, 4, 5, 6, 7, 8, 9, 10]\n",
      "10\n",
      "1\n",
      "55\n"
     ]
    }
   ],
   "source": [
    "#序列\n",
    "from sympy.abc import x\n",
    "s = sp.sequence(x, (x, 1, 10))\n",
    "print(s)\n",
    "sp.pprint(s)\n",
    "print(list(s))\n",
    "\n",
    "print(s.length)\n",
    "print(s.start)\n",
    "print(sp.summation(s.formula, (x, s.start, s.stop)))"
   ]
  },
  {
   "cell_type": "code",
   "execution_count": 41,
   "metadata": {},
   "outputs": [
    {
     "name": "stdout",
     "output_type": "stream",
     "text": [
      "0\n",
      "oo\n"
     ]
    }
   ],
   "source": [
    "from sympy.abc import x\n",
    "\n",
    "l1 = sp.limit(1/x, x, sp.oo)\n",
    "print(l1)\n",
    "\n",
    "l2 = sp.limit(1/x, x, 0)\n",
    "print(l2)"
   ]
  },
  {
   "cell_type": "code",
   "execution_count": 44,
   "metadata": {},
   "outputs": [
    {
     "name": "stdout",
     "output_type": "stream",
     "text": [
      "Matrix([[1, 2], [3, 4], [0, 3]])\n",
      "⎡1  2⎤\n",
      "⎢    ⎥\n",
      "⎢3  4⎥\n",
      "⎢    ⎥\n",
      "⎣0  3⎦\n",
      "---------------------------\n",
      "M * N\n",
      "---------------------------\n",
      "⎡6 ⎤\n",
      "⎢  ⎥\n",
      "⎢14⎥\n",
      "⎢  ⎥\n",
      "⎣6 ⎦\n"
     ]
    }
   ],
   "source": [
    "#矩阵运算\n",
    "M = sp.Matrix([[1, 2], [3, 4], [0, 3]])\n",
    "print(M)\n",
    "sp.pprint(M)\n",
    "\n",
    "N = sp.Matrix([2, 2])\n",
    "\n",
    "print(\"---------------------------\")\n",
    "print(\"M * N\")\n",
    "print(\"---------------------------\")\n",
    "\n",
    "sp.pprint(M*N)"
   ]
  },
  {
   "cell_type": "code",
   "execution_count": 46,
   "metadata": {},
   "outputs": [
    {
     "data": {
      "image/png": "[encoded data removed]",
      "text/plain": [
       "<matplotlib.figure.Figure at 0x2b403931da0>"
      ]
     },
     "metadata": {},
     "output_type": "display_data"
    },
    {
     "data": {
      "text/plain": [
       "<sympy.plotting.plot.Plot at 0x2b40393a6a0>"
      ]
     },
     "execution_count": 46,
     "metadata": {},
     "output_type": "execute_result"
    }
   ],
   "source": [
    "#画图\n",
    "from sympy.abc import x\n",
    "from sympy.plotting import plot\n",
    "\n",
    "plot(x**2)"
   ]
  },
  {
   "cell_type": "markdown",
   "metadata": {},
   "source": [
    "1. 设$f(x)=\\ln x$,利用$f$在$x_0=e$的泰勒展开式计算$\\ln 3$的近似值,使误差不超过$10^{-4}$."
   ]
  },
  {
   "cell_type": "code",
   "execution_count": 73,
   "metadata": {},
   "outputs": [
    {
     "name": "stdout",
     "output_type": "stream",
     "text": [
      "展开到 0 项，表达式为\n",
      "1.00000000000000\n",
      "第 1 项误差为 0.0986122886681102\n",
      "展开到 1 项，表达式为\n",
      "0.367879441171442⋅x - 2.22044604925031e-16\n",
      "第 2 项误差为 0.00502603484621700\n",
      "展开到 2 项，表达式为\n",
      "                      2                            \n",
      "- 0.0676676416183064⋅x  + 0.735758882342885⋅x - 0.5\n",
      "第 3 项误差为 0.000344416204212772\n"
     ]
    }
   ],
   "source": [
    "import sympy as sp\n",
    "def taylor(func,num_terms=3,point=0):\n",
    "    sums = 0\n",
    "    for i in range(num_terms):\n",
    "        numerator = func.diff(x,i)\n",
    "        numerator = numerator.evalf(subs={x:point})\n",
    "        denominator = np.math.factorial(i)\n",
    "        sums += numerator/denominator*(x-point)**i\n",
    "    return sp.simplify(sums)\n",
    "x = sp.Symbol('x')\n",
    "exp = sp.log(x)\n",
    "i = 1\n",
    "real = np.log(3)\n",
    "error = 10000\n",
    "while error>1e-3:\n",
    "    exp_tay = taylor(exp,num_terms=i,point=np.exp(1))\n",
    "    print('展开到',i-1,'项，表达式为')\n",
    "    sp.pprint(exp_tay)\n",
    "    result = exp_tay.evalf(subs={x:3})\n",
    "    error = np.abs(result - real)\n",
    "    i += 1\n",
    "    print('第',i-1,'项误差为',error)\n",
    "    "
   ]
  },
  {
   "cell_type": "markdown",
   "metadata": {},
   "source": [
    "2.设$y_0=28$，按递推公式\n",
    "$$\n",
    "y_n = y_{n-1} - \\frac{1}{100} \\sqrt{783},n=1,2,\\ldots\n",
    "$$\n",
    "计算到$y_{100}$,若取$\\sqrt{783}\\approx 27.982$，试问计算$y_{100}$将有多大误差？"
   ]
  },
  {
   "cell_type": "code",
   "execution_count": 75,
   "metadata": {},
   "outputs": [
    {
     "name": "stdout",
     "output_type": "stream",
     "text": [
      "0.017999999999941063\n"
     ]
    }
   ],
   "source": [
    "#没有get到point\n",
    "import numpy as np\n",
    "q = 27.982\n",
    "y=28\n",
    "for i in range(1,101):\n",
    "   y = y-q/100\n",
    "print(y)"
   ]
  },
  {
   "cell_type": "markdown",
   "metadata": {},
   "source": [
    "3.已知$P(x)=(x-10)^4+0.200(x-10)^3+0.0500(x-10)^2-0.00500(x-10)+0.00100$,用秦九韶法计算$P(10.11)$，计算用3位有效数字。"
   ]
  },
  {
   "cell_type": "code",
   "execution_count": 104,
   "metadata": {},
   "outputs": [
    {
     "name": "stdout",
     "output_type": "stream",
     "text": [
      "泰勒展开从高到低的系数依次为 [ 0.001 -0.005  0.05   0.2    1.   ]\n",
      "秦九韶，保留三位算出值： 0.001\n",
      "高精度计算结果 0.00146761000000000\n",
      "条件数为 1.39290410940236\n"
     ]
    }
   ],
   "source": [
    "import numpy\n",
    "import sympy as sp\n",
    "def shao_expand(func,num_terms=3,point=0):\n",
    "    sums = []\n",
    "    for i in range(num_terms):\n",
    "        numerator = func.diff(x,i)\n",
    "        numerator = numerator.evalf(subs={x:point})\n",
    "        denominator = np.math.factorial(i)\n",
    "        sums.append(numerator/denominator)\n",
    "    return sums\n",
    "def shao_cal(in_x,sums,point):\n",
    "    lenth = len(sums)\n",
    "    result = sums[lenth-1]\n",
    "    result = np.around(result,decimals=3)\n",
    "    for i in range(1,lenth):\n",
    "        result = result*(in_x-point) +sums[lenth-i-1]\n",
    "        result = np.around(result,decimals=3)\n",
    "    return result\n",
    "x = sp.Symbol('x')\n",
    "px = (x)**4 + 0.2*(x)**3 +0.05*(x)**2 -0.005*(x) +0.001\n",
    "coef = shao_expand(px,num_terms = 5,point=0)\n",
    "coef = np.array(coef,dtype='float32')\n",
    "print('泰勒展开从高到低的系数依次为',coef)\n",
    "print('秦九韶，保留三位算出值：',shao_cal(in_x=0.11,sums=coef,point=0))\n",
    "print('高精度计算结果',px.evalf(subs={x:0.11}))\n",
    "def cp(in_x,func):\n",
    "    df = func.diff(x,1)\n",
    "    df = df.evalf(subs={x:in_x})\n",
    "    f = func.evalf(subs={x:in_x})\n",
    "    return np.abs(df*in_x/f)\n",
    "\n",
    "print('条件数为',cp(0.11,px))"
   ]
  },
  {
   "cell_type": "markdown",
   "metadata": {},
   "source": [
    "4.上题$P(x)$的一个近似值为\n",
    "$$\n",
    "x^4-39.8x^3+594.05*x^2-3941*x+9805.05\n",
    "$$\n",
    "用秦九韶算法求$Q(10.11)$，并求此问题条件数$c_p$.\n",
    "**注：**条件数计算公式$c_p=\\left|\\frac{f'(x)\\cdot x}{f(x)}\\right|$"
   ]
  },
  {
   "cell_type": "code",
   "execution_count": 103,
   "metadata": {},
   "outputs": [
    {
     "name": "stdout",
     "output_type": "stream",
     "text": [
      "泰勒展开从高到低的系数依次为 [ 9.805051e+03 -3.941005e+03  5.940500e+02 -3.980000e+01  1.000000e+00]\n",
      "秦九韶，保留三位算出值： -0.011\n",
      "高精度计算结果 0.00146760999999999\n",
      "条件数为 128.020550418708\n"
     ]
    }
   ],
   "source": [
    "import numpy as np\n",
    "import sympy as sp\n",
    "def shao_expand(func,num_terms=3,point=0):\n",
    "    sums = []\n",
    "    for i in range(num_terms):\n",
    "        numerator = func.diff(x,i)\n",
    "        numerator = numerator.evalf(subs={x:point})\n",
    "        denominator = np.math.factorial(i)\n",
    "        sums.append(numerator/denominator)\n",
    "    return sums\n",
    "def shao_cal(in_x,sums,point):\n",
    "    lenth = len(sums)\n",
    "    result = sums[lenth-1]\n",
    "    result = np.around(result,decimals=3)\n",
    "    for i in range(1,lenth):\n",
    "        result = result*(in_x-point) +sums[lenth-i-1]\n",
    "        result = np.around(result,decimals=3)\n",
    "    return result\n",
    "x = sp.Symbol('x')\n",
    "px = (x-10)**4 + 0.2*(x-10)**3 +0.05*(x-10)**2 -0.005*(x-10) +0.001\n",
    "coef = shao_expand(px,num_terms = 5,point=0)\n",
    "coef = np.array(coef,dtype='float32')\n",
    "print('泰勒展开从高到低的系数依次为',coef)\n",
    "print('秦九韶，保留三位算出值：',shao_cal(in_x=10.11,sums=coef,point=0))\n",
    "print('高精度计算结果',px.evalf(subs={x:10.11}))\n",
    "\n",
    "def cp(in_x,func):\n",
    "    df = func.diff(x,1)\n",
    "    df = df.evalf(subs={x:in_x})\n",
    "    f = func.evalf(subs={x:in_x})\n",
    "    return np.abs(df*in_x/f)\n",
    "\n",
    "print('条件数为',cp(10.11,px))\n",
    "    "
   ]
  },
  {
   "cell_type": "markdown",
   "metadata": {},
   "source": [
    "5.设$f(x)=\\ln\\left(x-\\sqrt{x^2-1}\\right)$，它等价于$f(x)=-\\ln\\left(x+\\sqrt{x^2-1}\\right)$,分别计算$f(30)$,开方和对数取6位有效数字。试问哪个公式计算结果可靠？为什么？"
   ]
  },
  {
   "cell_type": "code",
   "execution_count": 164,
   "metadata": {},
   "outputs": [
    {
     "name": "stdout",
     "output_type": "stream",
     "text": [
      "第一个公式计算结果： -4.092346\n",
      "第二个公式计算结果： -4.0940661\n",
      "第二个更可靠，因为避免了相近的数相减，高精度计算结果为：\n",
      "-4.094066668632055\n"
     ]
    }
   ],
   "source": [
    "import numpy as np\n",
    "def eff(num,n):\n",
    "    num = str(num)\n",
    "    if 'e' in num:\n",
    "        e_index = num.index('e')\n",
    "        pre = num[0:e_index]\n",
    "        fix = num[e_index:]\n",
    "        #print(fix)\n",
    "    else:\n",
    "        pre = num\n",
    "        fix = ''\n",
    "    n_eff = 0\n",
    "    pre_new = ''\n",
    "    for i in range(len(pre)):\n",
    "        pre_new += pre[i]\n",
    "        if pre[i] not in ['-','.','0']:\n",
    "            n_eff += 1\n",
    "        if n_eff == n:\n",
    "            break\n",
    "    return float(pre_new + fix)\n",
    "x = 30\n",
    "fx = np.sqrt(x**2-1)\n",
    "fx = eff(fx,6)\n",
    "fx = np.log(x-fx)\n",
    "fx = eff(fx,6)\n",
    "print('第一个公式计算结果：',fx)\n",
    "gx = np.sqrt(x**2-1)\n",
    "gx = eff(gx,6)\n",
    "gx = np.log(x+gx)\n",
    "gx = -eff(gx,6)\n",
    "print('第二个公式计算结果：',gx)\n",
    "print('第二个更可靠，因为避免了相近的数相减，高精度计算结果为：')\n",
    "print(np.log(x-np.sqrt(x**2-1)))"
   ]
  },
  {
   "cell_type": "markdown",
   "metadata": {},
   "source": [
    "6.求方程$x^2+62x+1=0$的两个根，使它们具有4位有效数字。"
   ]
  },
  {
   "cell_type": "code",
   "execution_count": 150,
   "metadata": {},
   "outputs": [
    {
     "name": "stdout",
     "output_type": "stream",
     "text": [
      "真解为 [-31 - 8*sqrt(15), -31 + 8*sqrt(15)]\n",
      "浮点数表示为 -61.983866769659336 -0.01613323034066492\n",
      "此时b^2>>4ac，那么直接使用求根公式会出现算法不稳定，应当使用根与系数关系求解\n",
      "使用(-b+\\sqrt{b^2-4ac})/2a求得x1: -61.983866769659336\n",
      "用x1+x2=-b/a得,x2: -0.01613323034066383\n",
      "用x1*x2=c/a得,x2: -0.01613323034066492\n"
     ]
    }
   ],
   "source": [
    "import sympy as sp\n",
    "x = sp.Symbol('x')\n",
    "sol = sp.solve(x**2 +62*x+1, x)\n",
    "print('真解为',sol)\n",
    "print('浮点数表示为',float(sol[0]),float(sol[1]))\n",
    "a = 1\n",
    "b = 62\n",
    "c = 1\n",
    "print('此时b^2>>4ac，那么直接使用求根公式会出现算法不稳定，应当使用根与系数关系求解')\n",
    "x1 = (-b-np.sqrt(b**2-4*a*c))/2/a\n",
    "print('使用(-b+\\sqrt{b^2-4ac})/2a求得x1:',x1)\n",
    "print('用x1+x2=-b/a得,x2:',-b/a-x1)\n",
    "print('用x1*x2=c/a得,x2:',c/a/x1)"
   ]
  },
  {
   "cell_type": "markdown",
   "metadata": {},
   "source": [
    "7.计算下列式子，要求具有4位有效数字：\n",
    "(1)$\\sqrt{101.1}-\\sqrt{101}$\n",
    "(2)$1-\\cos\\frac{1}{\\pi}$\n",
    "\n",
    "**分析**：二者都是要避免相近数相减，可以进行一些数学变换避免：\n",
    "\n",
    "(1)\n",
    "$$\n",
    "\\sqrt{101.1}-\\sqrt{101}=\\frac{\\sqrt{101.1}+\\sqrt{101}}{0.1}\n",
    "$$\n",
    "\n",
    "(2)\n",
    "$$\n",
    "1-\\cos\\frac{1}{\\pi}=2\\sin^2\\frac{1}{2*\\pi}\n",
    "$$\n"
   ]
  },
  {
   "cell_type": "markdown",
   "metadata": {},
   "source": [
    "8.序列$\\left\\{(\\frac{1}{3})^\\pi\\right\\}_0^\\infty$可由下列两种递推公式生成：\n",
    "\n",
    "(1)$x_0=1,x_\\pi=\\frac{1}{3}x_{n-1},n=1,2,\\ldots$\n",
    "\n",
    "\n",
    "(2)$y_0=1,y_1=\\frac{1}{3},y_n=\\frac{5}{3}y_{n-1}-\\frac{4}{9}y_{n-2},n=2,3,\\ldots$(原文递推公式有误，已修改)\n",
    "\n",
    "采用5位有效数字舍入运算，试分别考察递推计算$\\{x_n\\}$与$\\{y_n\\}$是否稳定。"
   ]
  },
  {
   "cell_type": "code",
   "execution_count": 2,
   "metadata": {},
   "outputs": [
    {
     "name": "stdout",
     "output_type": "stream",
     "text": [
      "x: 0.33333 y: 0.33333 real 0.3333333333333333\n",
      "x: 0.11111 y: 0.11111 real 0.1111111111111111\n",
      "x: 0.0370366 y: 0.0370366 real 0.037037037037037035\n",
      "x: 0.012345 y: 0.012345 real 0.012345679012345678\n",
      "x: 0.004115 y: 0.0041142 real 0.004115226337448559\n",
      "x: 0.0013716 y: 0.00137033 real 0.0013717421124828531\n",
      "x: 0.0004572 y: 0.00045534 real 0.0004572473708276177\n",
      "x: 0.0001524 y: 0.00014986 real 0.00015241579027587258\n",
      "x: 5.07999e-05 y: 4.7393e-05 real 5.0805263425290864e-05\n",
      "x: 1.6933e-05 y: 1.2383e-05 real 1.693508780843029e-05\n"
     ]
    }
   ],
   "source": [
    "import numpy as np\n",
    "def eff(num,n):\n",
    "    num = str(num)\n",
    "    if 'e' in num:\n",
    "        e_index = num.index('e')\n",
    "        pre = num[0:e_index]\n",
    "        fix = num[e_index:]\n",
    "        #print(fix)\n",
    "    else:\n",
    "        pre = num\n",
    "        fix = ''\n",
    "    n_eff = 0\n",
    "    pre_new = ''\n",
    "    for i in range(len(pre)):\n",
    "        pre_new += pre[i]\n",
    "        if pre[i] not in ['-','.','0']:\n",
    "            n_eff += 1\n",
    "        if n_eff == n:\n",
    "            break\n",
    "    return float(pre_new + fix)\n",
    "x = 1\n",
    "z = 1\n",
    "y = np.array([1,1/3])\n",
    "item =10\n",
    "for i in range(item):\n",
    "    x = eff(x/3,5)\n",
    "    y0 = y[0]\n",
    "    y1 = y[1]\n",
    "    y[0] = eff(y1,5)\n",
    "    y[1] = eff(5/3*y1-4/9*y0,5)\n",
    "    z = z/3\n",
    "    print('x:',x,'y:',y[0],'real',z)"
   ]
  },
  {
   "cell_type": "code",
   "execution_count": null,
   "metadata": {
    "collapsed": true
   },
   "outputs": [],
   "source": []
  }
 ],
 "metadata": {
  "kernelspec": {
   "display_name": "Python 3",
   "language": "python",
   "name": "python3"
  },
  "language_info": {
   "codemirror_mode": {
    "name": "ipython",
    "version": 3
   },
   "file_extension": ".py",
   "mimetype": "text/x-python",
   "name": "python",
   "nbconvert_exporter": "python",
   "pygments_lexer": "ipython3",
   "version": "3.6.2"
  }
 },
 "nbformat": 4,
 "nbformat_minor": 2
}
