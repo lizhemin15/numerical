{
 "cells": [
  {
   "cell_type": "markdown",
   "metadata": {
    "collapsed": true
   },
   "source": [
    "本节介绍了解矩阵特征值和特征向量计算方法\n",
    "\n",
    "本文用到python的sympy库进行符号运算，\n",
    "可以到第一章进行了解。\n",
    "\n",
    "原创内容,如需转载需征得作者同意。\n",
    "\n",
    "Copyright©2020 lizhemin\n",
    "***"
   ]
  },
  {
   "cell_type": "markdown",
   "metadata": {
    "collapsed": true
   },
   "source": [
    "1.用幂法计算矩阵\n",
    "$$A=\\left(\\begin{array}{rrr}\n",
    "7 & 3 & -2 \\\\\n",
    "3 & 4 & -1 \\\\\n",
    "-2 & -1 & 3\n",
    "\\end{array}\\right)$$\n",
    "的主特征值及对应特征向量(当特征值又三位小数稳定时迭代终止)"
   ]
  },
  {
   "cell_type": "code",
   "execution_count": 13,
   "metadata": {},
   "outputs": [
    {
     "name": "stdout",
     "output_type": "stream",
     "text": [
      "[9.25]\n",
      "[9.54054054]\n",
      "[9.59490085]\n",
      "[9.6040744]\n",
      "[9.605429]\n",
      "eig_value: [9.605429] eig_vec [[ 0.02665903]\n",
      " [ 0.01614942]\n",
      " [-0.01050688]]\n",
      "[[ 0.02665943]\n",
      " [ 0.01614521]\n",
      " [-0.01051365]]\n"
     ]
    }
   ],
   "source": [
    "import numpy as np\n",
    "import copy\n",
    "\n",
    "def eig(A,x,error=1e-3):\n",
    "    n = A.shape[0]\n",
    "    x_old = copy.copy(x)\n",
    "    x_now = np.dot(A,x_old)\n",
    "    lam = x_now[0]/x_old[0]\n",
    "    while np.abs(lam- np.dot(A,x_now)[0]/x_now[0])>error:\n",
    "        x_old = copy.copy(x_now)\n",
    "        x_now = np.dot(A,x_old)\n",
    "        lam = x_now[0]/x_old[0]\n",
    "        x_now = x_now/norm_2(x_now)\n",
    "        print(lam)\n",
    "    return lam,x_now\n",
    "    \n",
    "def norm_2(x):\n",
    "    return np.mean(x**2)\n",
    "\n",
    "A = np.array([[7,3,-2],[3,4,-1],[-2,-1,3]])\n",
    "x = np.ones((3,1))\n",
    "eig_value,eig_vec = eig(A,x)\n",
    "print('eig_value:',eig_value,'eig_vec',eig_vec)\n",
    "print(np.dot(A,eig_vec)/eig_value)"
   ]
  },
  {
   "cell_type": "markdown",
   "metadata": {},
   "source": [
    "2.用反幂法求矩阵\n",
    "$$A=\\left(\\begin{array}{lll}\n",
    "6 & 2 & 1 \\\\\n",
    "2 & 3 & 1 \\\\\n",
    "1 & 1 & 1\n",
    "\\end{array}\\right)$$\n",
    "的最接近6的特征值及对应的特征向量"
   ]
  },
  {
   "cell_type": "markdown",
   "metadata": {},
   "source": [
    "分析：相当于迭代式变成$x_n = A x_{n+1}$，需要解线性方程组得到答案，这个解的过程就要用到之前的迭代法或直接解法，这里使用迭代法"
   ]
  },
  {
   "cell_type": "code",
   "execution_count": 21,
   "metadata": {},
   "outputs": [
    {
     "name": "stdout",
     "output_type": "stream",
     "text": [
      "[[1.82400590e-06]\n",
      " [2.90719902e-06]\n",
      " [1.00000485e+00]]\n",
      "[-60917.24214878]\n",
      "[1.33332229]\n",
      "[1.49994327]\n",
      "[1.64817412]\n",
      "[1.7041903]\n",
      "[1.72080319]\n",
      "[1.72562825]\n",
      "[1.72676236]\n",
      "[1.72725684]\n",
      "eig_value: [1.72725684] eig_vec [[-0.07962089]\n",
      " [-0.64686536]\n",
      " [ 1.72533451]]\n",
      "[[-0.07961851]\n",
      " [-0.64688429]\n",
      " [ 1.7253954 ]]\n"
     ]
    }
   ],
   "source": [
    "import numpy as np\n",
    "import copy\n",
    "\n",
    "#####Sollve linear functionals ######\n",
    "def DLU(A):\n",
    "    # Input matrix n\\times n\n",
    "    n = A.shape[0]\n",
    "    D = np.zeros((n,n))\n",
    "    L = np.zeros((n,n))\n",
    "    U = np.zeros((n,n))\n",
    "    for i in range(n):\n",
    "        for j in range(n):\n",
    "            if i==j:\n",
    "                D[i,i] = A[i,i]\n",
    "            elif i>j:\n",
    "                L[i,j] = -A[i,j]\n",
    "            else:\n",
    "                U[i,j] = -A[i,j]\n",
    "    return D,L,U\n",
    "\n",
    "def SOR(A,b,epsilon,omega=1):\n",
    "    k = 0\n",
    "    N = A.shape[0]\n",
    "    x = np.zeros((N,1))\n",
    "    while k==0 or abs(P0)>=epsilon:\n",
    "        P0 = 0\n",
    "        Ax = np.dot(A,x)\n",
    "        for i in range(N):\n",
    "            #Remark, this formula is a little different from book, I think algorithm on book have some wrong.\n",
    "            dx = omega/A[i,i]*(b[i]-Ax[i])\n",
    "            P = copy.copy(dx)\n",
    "            if abs(P)>abs(P0):\n",
    "                P0 = copy.copy(P)\n",
    "            x[i] = x[i]+P\n",
    "        k += 1\n",
    "    return k-1,omega,x\n",
    "\n",
    "def main_solve(A,b):\n",
    "    k,omega,x = SOR(A,b,1e-5,omega=1)\n",
    "    return x\n",
    "\n",
    "#####find the optimal eig######\n",
    "def eig(A,x,error=1e-4):\n",
    "    n = A.shape[0]\n",
    "    x_old = copy.copy(x)\n",
    "    x_now = main_solve(A,x_old)\n",
    "    print(x_now)\n",
    "    lam = x_now[0]/x_old[0]\n",
    "    while np.abs(lam- main_solve(A,x_now)[0]/x_now[0])>error:\n",
    "        x_old = copy.copy(x_now)\n",
    "        x_now = main_solve(A,x_old)\n",
    "        lam = x_now[0]/x_old[0]\n",
    "        x_now = x_now/norm_2(x_now)\n",
    "        print(lam)\n",
    "    return lam,x_now\n",
    "    \n",
    "def norm_2(x):\n",
    "    return np.mean(x**2)\n",
    "\n",
    "#####start use inverse power method#####\n",
    "A = np.array([[6,2,1],[2,3,1],[1,1,1]])\n",
    "x = np.array([[1],[1],[1]])\n",
    "eig_value,eig_vec = eig(A,x)\n",
    "print('eig_value:',eig_value,'eig_vec',eig_vec)\n",
    "print(main_solve(A,eig_vec)/eig_value)\n"
   ]
  },
  {
   "cell_type": "markdown",
   "metadata": {},
   "source": [
    "3.用雅可比方法计算\n",
    "$$A=\\left(\\begin{array}{ccc}\n",
    "1 & 1 & 0.5 \\\\\n",
    "1 & 1 & 0.25 \\\\\n",
    "0.5 & 0.25 & 2\n",
    "\\end{array}\\right)$$\n",
    "的全部特征值及特征向量\n"
   ]
  },
  {
   "cell_type": "markdown",
   "metadata": {},
   "source": [
    "**分析**：jacobian方法适用于求解对称矩阵，核心思想是通过旋转减少非对角线上元素的能量。"
   ]
  },
  {
   "cell_type": "code",
   "execution_count": 92,
   "metadata": {},
   "outputs": [
    {
     "name": "stdout",
     "output_type": "stream",
     "text": [
      "[[1.   1.   0.5 ]\n",
      " [1.   1.   0.25]\n",
      " [0.5  0.25 2.  ]]\n",
      "[[ 2.00000000e+00 -8.53284318e-17  5.30330086e-01]\n",
      " [ 0.00000000e+00  0.00000000e+00 -1.76776695e-01]\n",
      " [ 5.30330086e-01 -1.76776695e-01  2.00000000e+00]]\n",
      "0.5303300858899107\n",
      "[[ 2.00000000e+00 -8.53284318e-17  5.30330086e-01]\n",
      " [ 0.00000000e+00  0.00000000e+00 -1.76776695e-01]\n",
      " [ 5.30330086e-01 -1.76776695e-01  2.00000000e+00]]\n",
      "[[ 2.53033009e+00 -1.25000000e-01  5.34494463e-17]\n",
      " [-1.25000000e-01  0.00000000e+00 -1.25000000e-01]\n",
      " [ 7.68514419e-17 -1.25000000e-01  1.46966991e+00]]\n",
      "0.12500000000000003\n",
      "[[ 2.53033009e+00 -1.25000000e-01  5.34494463e-17]\n",
      " [-1.25000000e-01  0.00000000e+00 -1.25000000e-01]\n",
      " [ 7.68514419e-17 -1.25000000e-01  1.46966991e+00]]\n",
      "[[ 2.53649017e+00 -5.40059762e-18  6.15262039e-03]\n",
      " [ 5.30552331e-17 -6.16008695e-03 -1.24848489e-01]\n",
      " [ 6.15262039e-03 -1.24848489e-01  1.46966991e+00]]\n",
      "0.12484848922734756\n",
      "[[ 2.53649017e+00 -5.40059762e-18  6.15262039e-03]\n",
      " [ 5.30552331e-17 -6.16008695e-03 -1.24848489e-01]\n",
      " [ 6.15262039e-03 -1.24848489e-01  1.46966991e+00]]\n",
      "[[ 2.53649017e+00  5.14997571e-04  6.13102888e-03]\n",
      " [ 5.14997571e-04 -1.66471797e-02 -1.46426661e-18]\n",
      " [ 6.13102888e-03  5.64498286e-17  1.48015701e+00]]\n",
      "0.006131028881890553\n",
      "[[ 2.53649017e+00  5.14997571e-04  6.13102888e-03]\n",
      " [ 5.14997571e-04 -1.66471797e-02 -1.46426661e-18]\n",
      " [ 6.13102888e-03  5.64498286e-17  1.48015701e+00]]\n",
      "[[ 2.53652576e+00  5.14988898e-04 -1.59006726e-17]\n",
      " [ 5.14988898e-04 -1.66471797e-02 -2.98892958e-06]\n",
      " [ 6.54095942e-19 -2.98892958e-06  1.48012142e+00]]\n",
      "0.0005149888975609983\n",
      "[[ 2.53652576e+00  5.14988898e-04 -1.59006726e-17]\n",
      " [ 5.14988898e-04 -1.66471797e-02 -2.98892958e-06]\n",
      " [ 6.54095942e-19 -2.98892958e-06  1.48012142e+00]]\n",
      "[[ 2.53652586e+00 -5.95225260e-17 -6.02883367e-10]\n",
      " [ 2.94871424e-20 -1.66472836e-02 -2.98892952e-06]\n",
      " [-6.02883351e-10 -2.98892952e-06  1.48012142e+00]]\n",
      "2.9889295206923514e-06\n",
      "[[ 2.53652586e+00 -5.95225260e-17 -6.02883367e-10]\n",
      " [ 2.94871424e-20 -1.66472836e-02 -2.98892952e-06]\n",
      " [-6.02883351e-10 -2.98892952e-06  1.48012142e+00]]\n"
     ]
    },
    {
     "name": "stderr",
     "output_type": "stream",
     "text": [
      "C:\\Users\\x1c\\Anaconda3\\lib\\site-packages\\ipykernel_launcher.py:20: RuntimeWarning: divide by zero encountered in double_scalars\n"
     ]
    }
   ],
   "source": [
    "import numpy as np\n",
    "import copy\n",
    "\n",
    "\n",
    "def max_index(A):\n",
    "    X = copy.copy(A)\n",
    "    for i in range(X.shape[0]):\n",
    "        X[i,i] = 0\n",
    "    index = np.where(np.abs(X) == np.max(np.abs(X)))\n",
    "    #print(index)\n",
    "    try:\n",
    "        row = int(index[0][0])\n",
    "        col = int(index[0][1])\n",
    "    except:\n",
    "        row = int(index[0])\n",
    "        col = int(index[1])\n",
    "    return row,col\n",
    "\n",
    "def cal_theta(a11,a22,a12):\n",
    "    theta = np.arctan((2*a12)/(a11-a22))/2\n",
    "    return theta\n",
    "\n",
    "def cal_rot(A,theta,index):\n",
    "    i,j = index\n",
    "    n = A.shape[0]\n",
    "    P = np.eye(n)\n",
    "    P[i,i] = np.cos(theta)\n",
    "    P[j,j] = np.cos(theta)\n",
    "    P[i,j] = np.sin(theta)\n",
    "    P[j,i] = -np.sin(theta)\n",
    "    #print(A)\n",
    "    #print(P)\n",
    "    #print(np.dot(P,A))\n",
    "    rot = np.dot(np.dot(P,A),P.T)\n",
    "    return rot\n",
    "\n",
    "def jacobian(A,error=1e-5): \n",
    "    diff = copy.copy(A)\n",
    "    for i in range(A.shape[0]):\n",
    "        diff[i,i] = 0\n",
    "    diff = abs(diff)\n",
    "    while np.max(diff)>error:\n",
    "        i,j = max_index(A)\n",
    "        print(A)\n",
    "        theta = cal_theta(A[i,i],A[j,j],A[i,j])\n",
    "        A = cal_rot(A,theta,(i,j))\n",
    "        print(A)\n",
    "        #print(np.max(diff))\n",
    "        diff = copy.copy(A)\n",
    "        for i in range(A.shape[0]):\n",
    "            diff[i,i] = 0\n",
    "        diff = abs(diff)\n",
    "        print(np.max(diff))\n",
    "    return A\n",
    "\n",
    "\n",
    "A = np.array([[1,1,0.5],[1,1,0.25],[0.5,0.25,2]])\n",
    "print(jacobian(A))\n"
   ]
  },
  {
   "cell_type": "markdown",
   "metadata": {},
   "source": [
    "4.利用初等反设阵(豪斯霍尔德变换)将\n",
    "$$A=\\left(\\begin{array}{lll}\n",
    "1 & 3 & 4 \\\\\n",
    "3 & 1 & 2 \\\\\n",
    "4 & 2 & 1\n",
    "\\end{array}\\right)$$\n",
    "正交相似变换化为对称三对角阵"
   ]
  },
  {
   "cell_type": "code",
   "execution_count": null,
   "metadata": {
    "collapsed": true
   },
   "outputs": [],
   "source": [
    "import numpy as np\n",
    "\n"
   ]
  },
  {
   "cell_type": "markdown",
   "metadata": {},
   "source": [
    "5.设$A\\in\\mathbb{R}^{n\\times n}$且由豪斯霍尔德方法有$\\boldsymbol{v}_{0}^{T} \\boldsymbol{A} \\boldsymbol{v}_{0}=\\boldsymbol{H}$(为上豪森伯格阵)，又设$y$为$H$对应特征值$\\lambda$的特征向量，即$Hy=\\lambda y$，求证$x=v,y$为$A$对应$\\lambda$的特征向量。"
   ]
  },
  {
   "cell_type": "markdown",
   "metadata": {},
   "source": [
    "6.用带位移的$QR$方法计算下述对称三对角阵的全部特征值\n",
    "$$A=\\left(\\begin{array}{rrr}1 & 2 & 0 \\\\ 2 & -1 & 1 \\\\ 0 & 1 & 3\\end{array}\\right)$$"
   ]
  },
  {
   "cell_type": "markdown",
   "metadata": {},
   "source": [
    "7.设$A_1$为对称三对角阵\n",
    "$$A=\\left\\{\\begin{array}{cccc}\n",
    "0, & c_{1} & & \\\\\n",
    "c_{1} & b_{2} & c_{2} & \\\\\n",
    "& \\ddots & & \\ddots & c_{n-1} \\\\\n",
    "& & & & \\vdots \\\\\n",
    "& & & c_{n+1} & b_{1}\n",
    "\\end{array}\\right)$$\n",
    "且$A_1=QR$(QR分解)，其中$Q$为正交阵，$R$为上三角阵，$A_2=RQ=Q^TA_1Q$，求证$A_2$也是对称三对角阵"
   ]
  },
  {
   "cell_type": "markdown",
   "metadata": {},
   "source": [
    "8.试用平面旋转阵将下述$A$分解为$QR$，其中$Q$为正交阵，$R$为上三角阵\n",
    "$$A=\\left[\\begin{array}{lll}\n",
    "3 & 1 & 0 \\\\\n",
    "1 & 2 & 1 \\\\\n",
    "0 & 1 & 1\n",
    "\\end{array}\\right]$$"
   ]
  },
  {
   "cell_type": "markdown",
   "metadata": {},
   "source": [
    "9.用QR算法(双步QR方法)计算$H$全部特征值\n",
    "$$\\mathbf{H}=\\left(\\begin{array}{lllll}\n",
    "2 & 3 & 4 & 5 & 6 \\\\\n",
    "4 & 4 & 5 & 6 & 7 \\\\\n",
    "0 & 3 & 6 & 7 & 8 \\\\\n",
    "0 & 0 & 2 & 8 & 9 \\\\\n",
    "0 & 0 & 0 & 1 & 0\n",
    "\\end{array}\\right)$$"
   ]
  },
  {
   "cell_type": "markdown",
   "metadata": {},
   "source": [
    "10.验证对矩阵\n",
    "$A=\\left[\\begin{array}{ll}0 & 1 \\\\ 1 & 0\\end{array}\\right]$(为对称阵，且$\\lambda_1(A)=1,\\lambda_2(A)=-1$)使用基本QR方法不收敛对角阵"
   ]
  },
  {
   "cell_type": "code",
   "execution_count": null,
   "metadata": {
    "collapsed": true
   },
   "outputs": [],
   "source": []
  }
 ],
 "metadata": {
  "kernelspec": {
   "display_name": "Python 3",
   "language": "python",
   "name": "python3"
  },
  "language_info": {
   "codemirror_mode": {
    "name": "ipython",
    "version": 3
   },
   "file_extension": ".py",
   "mimetype": "text/x-python",
   "name": "python",
   "nbconvert_exporter": "python",
   "pygments_lexer": "ipython3",
   "version": "3.6.2"
  }
 },
 "nbformat": 4,
 "nbformat_minor": 2
}
