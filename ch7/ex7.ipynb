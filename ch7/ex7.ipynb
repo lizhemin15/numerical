{
 "cells": [
  {
   "cell_type": "markdown",
   "metadata": {
    "collapsed": true
   },
   "source": [
    "本节介绍了解矩阵特征值和特征向量计算方法\n",
    "\n",
    "本文用到python的sympy库进行符号运算，\n",
    "可以到第一章进行了解。\n",
    "\n",
    "原创内容,如需转载需征得作者同意。\n",
    "\n",
    "Copyright©2020 lizhemin\n",
    "***"
   ]
  },
  {
   "cell_type": "markdown",
   "metadata": {
    "collapsed": true
   },
   "source": [
    "1.用幂法计算矩阵\n",
    "$$A=\\left(\\begin{array}{rrr}\n",
    "7 & 3 & -2 \\\\\n",
    "3 & 4 & -1 \\\\\n",
    "-2 & -1 & 3\n",
    "\\end{array}\\right)$$\n",
    "的主特征值及对应特征向量(当特征值又三位小数稳定时迭代终止)"
   ]
  },
  {
   "cell_type": "code",
   "execution_count": null,
   "metadata": {
    "collapsed": true
   },
   "outputs": [],
   "source": []
  },
  {
   "cell_type": "markdown",
   "metadata": {},
   "source": [
    "2.用反幂法求矩阵\n",
    "$$A=\\left(\\begin{array}{lll}\n",
    "6 & 2 & 1 \\\\\n",
    "2 & 3 & 1 \\\\\n",
    "1 & 1 & 1\n",
    "\\end{array}\\right)$$\n",
    "的最接近6的特征值及对应的特征向量"
   ]
  },
  {
   "cell_type": "markdown",
   "metadata": {},
   "source": [
    "3.用雅可比方法计算\n",
    "$$A=\\left(\\begin{array}{ccc}\n",
    "1 & 1 & 0.5 \\\\\n",
    "1 & 1 & 0.25 \\\\\n",
    "0.5 & 0.25 & 2\n",
    "\\end{array}\\right)$$\n",
    "的全部特征值及特征向量\n"
   ]
  },
  {
   "cell_type": "markdown",
   "metadata": {},
   "source": [
    "4.利用初等反设阵(豪斯霍尔德变换)将\n",
    "$$A=\\left(\\begin{array}{lll}\n",
    "1 & 3 & 4 \\\\\n",
    "3 & 1 & 2 \\\\\n",
    "4 & 2 & 1\n",
    "\\end{array}\\right)$$\n",
    "正交相似变换化为对称三对角阵"
   ]
  },
  {
   "cell_type": "markdown",
   "metadata": {},
   "source": [
    "5.设$A\\in\\mathbb{R}^{n\\times n}$且由豪斯霍尔德方法有$\\boldsymbol{v}_{0}^{T} \\boldsymbol{A} \\boldsymbol{v}_{0}=\\boldsymbol{H}$(为上豪森伯格阵)，又设$y$为$H$对应特征值$\\lambda$的特征向量，即$Hy=\\lambda y$，求证$x=v,y$为$A$对应$\\lambda$的特征向量。"
   ]
  },
  {
   "cell_type": "markdown",
   "metadata": {},
   "source": [
    "6.用带位移的$QR$方法计算下述对称三对角阵的全部特征值\n",
    "$$A=\\left(\\begin{array}{rrr}1 & 2 & 0 \\\\ 2 & -1 & 1 \\\\ 0 & 1 & 3\\end{array}\\right)$$"
   ]
  },
  {
   "cell_type": "markdown",
   "metadata": {},
   "source": [
    "7.设$A_1$为对称三对角阵\n",
    "$$A=\\left\\{\\begin{array}{cccc}\n",
    "0, & c_{1} & & \\\\\n",
    "c_{1} & b_{2} & c_{2} & \\\\\n",
    "& \\ddots & & \\ddots & c_{n-1} \\\\\n",
    "& & & & \\vdots \\\\\n",
    "& & & c_{n+1} & b_{1}\n",
    "\\end{array}\\right)$$\n",
    "且$A_1=QR$(QR分解)，其中$Q$为正交阵，$R$为上三角阵，$A_2=RQ=Q^TA_1Q$，求证$A_2$也是对称三对角阵"
   ]
  },
  {
   "cell_type": "markdown",
   "metadata": {},
   "source": [
    "8.试用平面旋转阵将下述$A$分解为$QR$，其中$Q$为正交阵，$R$为上三角阵\n",
    "$$A=\\left[\\begin{array}{lll}\n",
    "3 & 1 & 0 \\\\\n",
    "1 & 2 & 1 \\\\\n",
    "0 & 1 & 1\n",
    "\\end{array}\\right]$$"
   ]
  },
  {
   "cell_type": "markdown",
   "metadata": {},
   "source": [
    "9.用QR算法(双步QR方法)计算$H$全部特征值\n",
    "$$\\mathbf{H}=\\left(\\begin{array}{lllll}\n",
    "2 & 3 & 4 & 5 & 6 \\\\\n",
    "4 & 4 & 5 & 6 & 7 \\\\\n",
    "0 & 3 & 6 & 7 & 8 \\\\\n",
    "0 & 0 & 2 & 8 & 9 \\\\\n",
    "0 & 0 & 0 & 1 & 0\n",
    "\\end{array}\\right)$$"
   ]
  },
  {
   "cell_type": "markdown",
   "metadata": {},
   "source": [
    "10.验证对矩阵\n",
    "$A=\\left[\\begin{array}{ll}0 & 1 \\\\ 1 & 0\\end{array}\\right]$(为对称阵，且$\\lambda_1(A)=1,\\lambda_2(A)=-1$)使用基本QR方法不收敛对角阵"
   ]
  },
  {
   "cell_type": "code",
   "execution_count": null,
   "metadata": {
    "collapsed": true
   },
   "outputs": [],
   "source": []
  }
 ],
 "metadata": {
  "kernelspec": {
   "display_name": "Python 3",
   "language": "python",
   "name": "python3"
  },
  "language_info": {
   "codemirror_mode": {
    "name": "ipython",
    "version": 3
   },
   "file_extension": ".py",
   "mimetype": "text/x-python",
   "name": "python",
   "nbconvert_exporter": "python",
   "pygments_lexer": "ipython3",
   "version": "3.6.2"
  }
 },
 "nbformat": 4,
 "nbformat_minor": 2
}
