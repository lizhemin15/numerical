{
 "cells": [
  {
   "cell_type": "markdown",
   "metadata": {
    "collapsed": true
   },
   "source": [
    "本节介绍了**函数逼近基本概念、插值法、内积空间和正交多项式、函数最佳平方估计、周期函数逼近与快速傅里叶变换、最佳一致逼近、有理逼近**.\n",
    "详情见[《现代数值分析》 二、数值逼近](https://www.jianshu.com/p/558175a8aa0f)\n",
    "\n",
    "本文用到python的sympy库进行符号运算，\n",
    "可以到第一章进行了解。\n",
    "\n",
    "原创内容,如需转载需征得作者同意。\n",
    "\n",
    "Copyright©2020 lizhemin\n",
    "***"
   ]
  },
  {
   "cell_type": "markdown",
   "metadata": {},
   "source": [
    "1.$f(x)=sin \\frac{\\pi}{2}x$,给出$[0,1]$上的伯恩斯坦多项式$B_1(f,x)$及$B_2(f,x)$\n",
    "\n",
    "**解**：$B_n(f,x)=\\sum\\limits_{k=0}^{n}f\\left(\\frac{k}{n}\\right)C_k^nx^k(1-x)^{n-k}$\n",
    "\n",
    "带入得$B_1(f,x)=\\sin (\\frac{\\pi}{2})x=x$,$B_2(f,x)=\\sin (\\frac{\\pi}{2})\\cdot 2\\cdot x\\cdot (1-x)+\\sin (\\frac{\\pi}{2})x^2=2x-x^2$\n",
    "***"
   ]
  },
  {
   "cell_type": "markdown",
   "metadata": {},
   "source": [
    "2.当$f(x)=x$,求证$B_n(f,x)=x$\n",
    "\n",
    "**证：**即证$B_n(f,x)=\\sum\\limits_{k=0}^{n}\\frac{k}{n}\\cdot C_k^nx^k(1-x)^{n-k}=x$\n",
    "***"
   ]
  },
  {
   "cell_type": "markdown",
   "metadata": {},
   "source": [
    "3.证明函数$1,x,\\ldots,x^n$线性无关\n",
    "\n",
    "**证**：反设不线性相关，则$\\exists c_0,c_1,\\ldots,c_n$不全为零 s.t. $\\sum_{i=0}^n c_i\\cdot x^i=0$\n",
    "***"
   ]
  },
  {
   "cell_type": "markdown",
   "metadata": {
    "collapsed": true
   },
   "source": [
    "4.计算下列向量的$\\|x\\|_{\\infty},\\|x\\|_{1},\\|x\\|_{2}$\n",
    "\n",
    "(1) $x=\\left(3,-4,0,\\frac{3}{2}\\right)$\n",
    "(2) $x=\\left(2,-1,3,-4\\right)$\n",
    "(3) $x=\\left(\\sin k,\\cos k,2^k\\right)$,k为正整数\n",
    "***"
   ]
  },
  {
   "cell_type": "markdown",
   "metadata": {},
   "source": [
    "5.证明，当$f\\in C[a,b],\\|f\\|_2=\\left\\{\\int_a^b f^2(x) dx\\right\\}^{\\frac{1}{2}}$是$C[a,b]$上的一个范数\n",
    "***"
   ]
  },
  {
   "cell_type": "markdown",
   "metadata": {},
   "source": [
    "6.计算下列函数$f$关于$C[0,1]$的$\\|f\\|_{\\infty},$\\|f\\|_{1},$\\|f\\|_{2}$\n",
    "\n",
    "(1) $f(x)=(x-1)^3$\n",
    "(2) $f(x)=\\|x-\\frac{1}{2}\\|$\n",
    "(3) $f(x)=x^m(1-x)^n$,m与n为正整数\n",
    "(4) $f(x)=(x+1)^10 e^{-x}$"
   ]
  },
  {
   "cell_type": "markdown",
   "metadata": {},
   "source": [
    "7.证明$\\|f-g\\|\\geq \\|f\\|-\\|g\\|$"
   ]
  },
  {
   "cell_type": "markdown",
   "metadata": {},
   "source": [
    "8.选择$a$,使积分$\\int_{-1}^1 (x-ax^2)^2 dx$取得最小"
   ]
  },
  {
   "cell_type": "markdown",
   "metadata": {},
   "source": [
    "9.记$\\omega_0(x)=1,\\omega_k(x)=(x-x_0)\\ldots(x-x_k)$.证明$\\{\\omega_k(x)\\}_0^n$线性无关."
   ]
  },
  {
   "cell_type": "markdown",
   "metadata": {},
   "source": [
    "10.给出下面函数表，利用牛顿差商插值构造插值多项式\n",
    "\n",
    "| x    \t| 0        \t| 0.1      \t| 0.3      \t| 0.6      \t| 1.0      \t|\n",
    "|--------\t|----------\t|----------\t|----------\t|----------\t|----------\t|\n",
    "| f(x) \t| -6.00000 \t| -6.89483 \t| -5.65014 \t| -5.17788 \t| -4.28172 \t|"
   ]
  },
  {
   "cell_type": "markdown",
   "metadata": {},
   "source": [
    "11.给出$f(x)=\\ln x$的函数表如下：\n",
    "\n",
    "| x    | 0.4        | 0.5      | 0.6      | 0.7      |\n",
    "|------|----------|----------|----------|----------|\n",
    "| ln x | -0.916291 | -0.693147 | -0.510826 | -0.357765 |\n",
    "\n",
    "用拉格朗日插值求$\\ln 0.54$近似值并估计误差(计算取$n=1$及$n=3$)"
   ]
  },
  {
   "cell_type": "markdown",
   "metadata": {},
   "source": [
    "12.在$-1\\leq x\\leq 0$上给出$f(x)=e^x$的具有5位有效数字的函数表，若用线性插值求$e^x$的值使它具有4位有效数字，试问所使函数表步长应取多大?"
   ]
  },
  {
   "cell_type": "markdown",
   "metadata": {},
   "source": [
    "13.求次数$\\leq 4$的多项式$p$，使它满足$p(1)=p(0)=p(-1)=1,p'(1)=p'(-1)=2$"
   ]
  },
  {
   "cell_type": "markdown",
   "metadata": {},
   "source": [
    "14.设$f\\in C[a,b]$试求它在$[a,b]$上的一次样条函数."
   ]
  },
  {
   "cell_type": "markdown",
   "metadata": {},
   "source": [
    "15.建立三次样条插值函数$s$,并求$f(0)$的近似值$s(0)$,这里已给函数表：\n",
    "\n",
    "| $x_i$    \t| -0.3        \t| -0.1      \t| 0.1      \t| 0.3      \t| \n",
    "|--------\t|----------\t|----------\t|----------\t|----------\t|\n",
    "| $f(x_i)$ \t| -0.20431 \t| -0.08983 \t| 0.11007 \t| 0.33599 \t|\n",
    "\n",
    "边界条件$s''(-0.3)=s''(0.3)=0$"
   ]
  },
  {
   "cell_type": "markdown",
   "metadata": {},
   "source": [
    "16.设$f\\in C^4[a,b],s$是以节点$a=x_0 < x_1<\\ldots<x_n=b$的$f$三次插值样条函数并满足条件$s'(x)=f'(x),x=a,b$求证$\\int_a^b\\left[f''(x)-s''(x)\\right]^2 dx=\\int_a^b \\left[f(x)-s(x)\\right]f^{(4)}(x) dx$"
   ]
  },
  {
   "cell_type": "markdown",
   "metadata": {},
   "source": [
    "17.试给出线性$B-$样条的基"
   ]
  },
  {
   "cell_type": "markdown",
   "metadata": {},
   "source": [
    "18.$f,g\\in C^1 [a,b]$定义\n",
    "\n",
    "(a) $(f,g)=\\int_a^b f'(x)g'(x) dx$\n",
    "\n",
    "(b) $(f,g)=\\int_a^b f'(x)g'(x)dx+f(a)g(a)$\n",
    "\n",
    "问它们是否构成内积."
   ]
  },
  {
   "cell_type": "markdown",
   "metadata": {},
   "source": [
    "19.令$T^*_n(x)=T_n(2x-1),x\\in [0,1],$试证$\\{T^*_n(x)\\}$是在$[0,1]$上带权$\\rho(x)=\\frac{1}{\\sqrt{x-x^2}}$的正交多项式，并求$T^*_0(x),T^*_1(x),T^*_2(x),T^*_3(x)$"
   ]
  },
  {
   "cell_type": "markdown",
   "metadata": {},
   "source": [
    "20.对权函数$\\rho(x)=1+x^2$,区间$[-1,1]$,试求首项系数为1的正交多项式$\\varphi_n(x),n=0,1,2,3$"
   ]
  },
  {
   "cell_type": "markdown",
   "metadata": {},
   "source": [
    "21.试证明第二类切比雪夫多项式族$\\{u_n(x)\\}$是$[-1,1]$上带权$\\rho(x)=\\sqrt{1-x^2}$的正交多项式。"
   ]
  },
  {
   "cell_type": "markdown",
   "metadata": {},
   "source": [
    "22.证明切比雪夫多项式$T_n$满足微分方程\n",
    "\n",
    "$$(1-x^2)T''_n(x)-xT'_n(x)+n^2T_n(x)=0$$"
   ]
  },
  {
   "cell_type": "markdown",
   "metadata": {},
   "source": [
    "23.$f(x)=\\left|x\\right|$在$[-1,1]$上求在$\\Phi=Span\\{1,x^2,x^4\\}$上的最佳平方逼近多项式."
   ]
  },
  {
   "cell_type": "markdown",
   "metadata": {},
   "source": [
    "24.求函数$f$在指定区域上对于$\\Phi=Span\\{1,x\\}$的最佳平方逼近多项式：\n",
    "\n",
    "(1)$f(x)=\\frac{1}{x},[1,3]$\n",
    "\n",
    "(2)$f(x)=e^x,[0,1]$\n",
    "\n",
    "(3)$f(x)=\\cos \\pi x,[0,1]$\n",
    "\n",
    "(4)$f(x)=\\ln x,[1,2]$"
   ]
  },
  {
   "cell_type": "markdown",
   "metadata": {},
   "source": [
    "25.$f(x)=\\sin \\frac{\\pi}{2}x$在$[-1,1]$上按勒让德多项式展开求三次最佳平方逼近多项式"
   ]
  },
  {
   "cell_type": "markdown",
   "metadata": {},
   "source": [
    "26.观测物体的直线运动，得出以下的数据：\n",
    "\n",
    "| 时间  t(秒)  \t| 0        \t| 0.9      \t| 1.9     \t| 3.0      \t| 3.9      \t|5.0\n",
    "|--------\t|----------\t|----------\t|----------\t|----------\t|----------\t|----------\t|\n",
    "| 距离 s(米) \t| 0 \t| 10 \t| 30 \t| 50 \t| 80 \t|110|\n",
    "\n",
    "求运动方程"
   ]
  },
  {
   "cell_type": "markdown",
   "metadata": {},
   "source": [
    "27.已知实验数据如下：\n",
    "\n",
    "| $x_i$    \t| 19        \t| 25      \t| 31      \t| 38      \t| 44      \t|\n",
    "|--------\t|----------\t|----------\t|----------\t|----------\t|----------\t|\n",
    "| $y_i$ \t| 19.0 \t| 32.8 \t| 49.0 \t| 73.3 \t| 97.8 \t|\n",
    "\n",
    "用最小二乘法求形如$y=a+bx^2$的经验公式,并计算均方误差。"
   ]
  },
  {
   "cell_type": "markdown",
   "metadata": {},
   "source": [
    "28.在某化学反应中，由实验得分解物浓度与时间关系如下：\n",
    "\n",
    "| 时间 t                  \t| 0 \t| 5    \t| 10   \t| 15   \t| 20   \t| 25   \t| 30   \t| 35   \t| 40   \t| 50   \t| 60   \t| 70   \t|\n",
    "|-------------------------\t|---\t|------\t|------\t|------\t|------\t|------\t|------\t|------\t|------\t|------\t|------\t|------\t|\n",
    "| 浓度y($\\times 10^{-4}$) \t| 0 \t| 1.27 \t| 2.16 \t| 2.86 \t| 3.44 \t| 3.87 \t| 4.15 \t| 4.37 \t| 4.61 \t| 4.82 \t| 1.65 \t| 4.66 \t|\n",
    "\n",
    "用最小二乘法求$y=F(t)$"
   ]
  },
  {
   "cell_type": "markdown",
   "metadata": {},
   "source": [
    "29.给出一张记录$\\{f_k=(4,3,2,1,0,1,2,3)\\}$,用$FFT$算法求$f_k$的离散谱$C_k$."
   ]
  },
  {
   "cell_type": "markdown",
   "metadata": {},
   "source": [
    "30.选常数$a$使$\\max_{0\\leq x\\leq 1}\\left | x^3-ax\\right |$达到极小"
   ]
  },
  {
   "cell_type": "markdown",
   "metadata": {},
   "source": [
    "31.设$f\\in C[a,b],$试证明$f$的零次最佳逼近多项式\n",
    "\n",
    "$P(x)=\\frac{1}{2}(M+m),$其中$M,m$分别为$f$在$[a,b]$上的最大值和最小值。"
   ]
  },
  {
   "cell_type": "markdown",
   "metadata": {},
   "source": [
    "32.$f(x)=\\frac{1}{3+x}$在$[-1,1]$上求最佳逼近一次多项式"
   ]
  },
  {
   "cell_type": "markdown",
   "metadata": {},
   "source": [
    "33.求$f(x)=e^x$在$[0,1]$上的最佳逼近一次多项式"
   ]
  },
  {
   "cell_type": "markdown",
   "metadata": {},
   "source": [
    "34.求$f(x)=x^4+3x^2-1$在$[0,1]$上的最佳逼近三次多项式"
   ]
  },
  {
   "cell_type": "markdown",
   "metadata": {},
   "source": [
    "35.设在$[-1,1]$上，$\\phi(x)=a-\\frac{1}{2}x+\\frac{1}{8}x^2-\\frac{3}{24}x^3+\\frac{15}{384}x^4-\\frac{65}{3840}x^5$,试利用项数节约将$\\phi$降到三次多项式。"
   ]
  },
  {
   "cell_type": "markdown",
   "metadata": {},
   "source": [
    "36.在$[-1,1]$上利用幂级数节约求$f(x)=\\sin x$的三次逼近多项式，使误差不超过$0.005$"
   ]
  },
  {
   "cell_type": "markdown",
   "metadata": {},
   "source": [
    "37.将$f(x)=\\arccos x$在$[-1,1]$上展成切比雪夫级数，写出它的前三项"
   ]
  },
  {
   "cell_type": "markdown",
   "metadata": {},
   "source": [
    "38.用辗转相除法将$R_{2,2}(x)=\\frac{3x^2+6x}{x^2+6x+6}$化成连分式"
   ]
  },
  {
   "cell_type": "markdown",
   "metadata": {},
   "source": [
    "39.用形如$\\frac{x-a}{bx+c}$的形式进行有理插值，使通过点$(0,-2),(1,-\\frac{1}{3}),(-1,3)$"
   ]
  },
  {
   "cell_type": "markdown",
   "metadata": {},
   "source": [
    "40.给定一组点$(0,7),(1,4),(2,2),(3,3)$试建立通过此组点的反差商有理插值函数。"
   ]
  },
  {
   "cell_type": "markdown",
   "metadata": {},
   "source": [
    "41.求$f(x)=\\ln (1+x)$的帕德逼近$R(1,2),R(3,3)$并用$R(3,3)$计算$\\ln 2$的近似值并估计误差"
   ]
  },
  {
   "cell_type": "code",
   "execution_count": null,
   "metadata": {
    "collapsed": true
   },
   "outputs": [],
   "source": []
  }
 ],
 "metadata": {
  "kernelspec": {
   "display_name": "Python 3",
   "language": "python",
   "name": "python3"
  },
  "language_info": {
   "codemirror_mode": {
    "name": "ipython",
    "version": 3
   },
   "file_extension": ".py",
   "mimetype": "text/x-python",
   "name": "python",
   "nbconvert_exporter": "python",
   "pygments_lexer": "ipython3",
   "version": "3.6.2"
  }
 },
 "nbformat": 4,
 "nbformat_minor": 2
}
