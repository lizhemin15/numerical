{
 "cells": [
  {
   "cell_type": "markdown",
   "metadata": {
    "collapsed": true
   },
   "source": [
    "本节介绍了数值积分\n",
    "\n",
    "本文用到python的sympy库进行符号运算，\n",
    "可以到第一章进行了解。\n",
    "\n",
    "原创内容,如需转载需征得作者同意。\n",
    "\n",
    "Copyright©2020 lizhemin\n",
    "***"
   ]
  },
  {
   "cell_type": "markdown",
   "metadata": {
    "collapsed": true
   },
   "source": [
    "1.确定下列求积公式的待定参数，使其代数精确度尽量高，并指明所构造出的求积公式所具有的代数精度：\n",
    "\n",
    "(1)$\\int_{-h}^{h} f(x) d x \\approx A f(-h)+B f(0)+C f(h)$\n",
    "\n",
    "(2)$\\int_{-h}^{h} f(x) d x \\approx A f(-h)+B f\\left(x_{1}\\right)$\n",
    "\n",
    "(3)$\\int_{-2 h}^{2 h} f(x) \\mathrm{d} x \\approx A f(-h)+B f(0)+C f(h)$\n",
    "\n",
    "(4)$\\int_{0}^{1} f(x) \\mathrm{d} x \\approx A f(0)+B f\\left(x_{1}\\right)+C f(1)$\n",
    "\n",
    "(5)$\\int_{-1}^{1} f(x) \\mathrm{d} x \\approx \\frac{1}{3}\\left[f(-1)+2 f\\left(x_{1}\\right)+3 f\\left(x_{2}\\right)\\right]$"
   ]
  },
  {
   "cell_type": "markdown",
   "metadata": {},
   "source": [
    "2.若用复合辛普森公式计算积分$\\int_1^3 e^x\\ln x dx$,要求截断误差不超过$\\frac{1}{2}\\times 10^{-4}$,问需计算多少个节点的函数值(不计舍入误差)。"
   ]
  },
  {
   "cell_type": "markdown",
   "metadata": {},
   "source": [
    "3.利用$n=2,3$的高斯-勒让德求积公式计算下列积分：\n",
    "\n",
    "(1)$\\int_{1}^{3} e^{x} \\sin x d x$\n",
    "\n",
    "(2)$\\int_{1}^{3} \\frac{1}{x} d x$"
   ]
  },
  {
   "cell_type": "markdown",
   "metadata": {},
   "source": [
    "4.证明$[a,b]$上以$\\rho(x)$为权的高斯型积分系数$A_k$满足\n",
    "$$\\sum_{k=0}^{n} A_{k}=\\int_{0}^{b} \\rho(x) d x$$"
   ]
  },
  {
   "cell_type": "markdown",
   "metadata": {},
   "source": [
    "5.求$x_1,x_2,A_1,A_2$使公式$\\int_{0}^{1}-\\frac{1}{x} f(x) d x \\approx A_1 f\\left(x_{1}\\right)+A_2 f(x_2)$为高斯型公式"
   ]
  },
  {
   "cell_type": "markdown",
   "metadata": {},
   "source": [
    "6.证明求积公式\n",
    "$$\\int_{-\\infty}^{-\\infty} e^{-x^{2} f(x) \\mathrm{d} x} \\approx \\frac{\\sqrt{\\pi}}{6}\\left[f\\left(-\\sqrt{\\frac{3}{2}}\\right)+4 f(0)+f\\left(\\sqrt{\\frac{3}{2}}\\right)\\right]$$\n",
    "具有5次代数精确度"
   ]
  },
  {
   "cell_type": "markdown",
   "metadata": {},
   "source": [
    "7.利用自适应辛普森公式计算积分\n",
    "$$\\int_{1}^{10} \\ln x 1 x$$\n",
    "使它精确的$10^{-3}$"
   ]
  },
  {
   "cell_type": "markdown",
   "metadata": {},
   "source": [
    "8.计算下列奇异积分，准确到$10^{-4}$\n",
    "\n",
    "(1)$\\int_{0}^{1} \\frac{\\cos x}{\\sqrt{x}} d x$\n",
    "\n",
    "(2)$\\int_{0}^{1} \\frac{\\operatorname{arctg} x}{x^{3 / 2}} d x$"
   ]
  },
  {
   "cell_type": "markdown",
   "metadata": {},
   "source": [
    "9.利用5点的高斯-切比雪夫公式，通过变量置换计算积分\n",
    "$$I=\\int_{0}^{1 / 3}\\frac{6x}{[x(1-3 x)]^{1 / 2}} d x$$"
   ]
  },
  {
   "cell_type": "markdown",
   "metadata": {},
   "source": [
    "10.将区间$[0,2\\pi]$三等分，分点$x_k=\\frac{2k\\pi}{3}(k=0,1,2,3)$,建立求积公式\n",
    "$$\\int_{a}^{2 x} f(x) \\sin m x d x \\approx A_{0} f\\left(x_{0}\\right)+\n",
    "A_{1} f\\left(x_{1}\\right)+A_{2} f\\left(x_{2}\\right)+A_{3} f\\left(x_{3}\\right)$$\n",
    "使当$f(x)=x^{n}(n=0,1,2,3)$精确成立，利用此公式计算积分$I=\\int_{0}^{2 \\pi} x \\cos x \\sin 30 x d x$(精确值$I=-0.20967243$)"
   ]
  },
  {
   "cell_type": "markdown",
   "metadata": {},
   "source": [
    "11.用辛普森公式计算二重积分\n",
    "$$\\int_{0}^{0.1} \\int_{0}^{0.1} e^{y-x} d x d y$$"
   ]
  },
  {
   "cell_type": "markdown",
   "metadata": {},
   "source": [
    "12.用复合辛普森公式计算二重积分\n",
    "\n",
    "$\\iint_{R} \\ln (x+2 y) d x d y$(其中$R=\\{(x, y) | 1 \\leqslant x \\leqslant 2,1 \\leqslant y \\leqslant x\\}$)\n",
    "$x$方向格长$h=0.25$,$y$方向$k=0.125$"
   ]
  },
  {
   "cell_type": "markdown",
   "metadata": {},
   "source": [
    "13.利用区间$[0,1]$上的三点高斯-勒让德求积公式，求积分方程\n",
    "\n",
    "$$y(x)=-\\int_{0}^{1} k(x, s) y(s) d s+x^{2}$$\n",
    "$$k(x, s)=\\left\\{\\begin{array}{ll}x(1-s), & 0 \\leqslant x \\leqslant s \\leqslant 1 \\\\ s(1-x), & 0 \\leqslant s \\leqslant x \\leqslant 1\\end{array}\\right.$$\n",
    "在节点$x_1,x_2,x_3$处的近似解$y_1,y_2,y_3$"
   ]
  },
  {
   "cell_type": "code",
   "execution_count": null,
   "metadata": {
    "collapsed": true
   },
   "outputs": [],
   "source": []
  }
 ],
 "metadata": {
  "kernelspec": {
   "display_name": "Python 3",
   "language": "python",
   "name": "python3"
  },
  "language_info": {
   "codemirror_mode": {
    "name": "ipython",
    "version": 3
   },
   "file_extension": ".py",
   "mimetype": "text/x-python",
   "name": "python",
   "nbconvert_exporter": "python",
   "pygments_lexer": "ipython3",
   "version": "3.6.2"
  }
 },
 "nbformat": 4,
 "nbformat_minor": 2
}
