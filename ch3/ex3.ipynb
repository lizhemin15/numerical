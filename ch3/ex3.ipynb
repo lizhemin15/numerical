{
 "cells": [
  {
   "cell_type": "markdown",
   "metadata": {
    "collapsed": true
   },
   "source": [
    "本节介绍了数值积分\n",
    "\n",
    "本文用到python的sympy库进行符号运算，\n",
    "可以到第一章进行了解。\n",
    "[第三章.数值积分基础知识](https://www.jianshu.com/writer#/notebooks/43033078/notes/65639997/preview)\n",
    "\n",
    "原创内容,如需转载需征得作者同意。\n",
    "\n",
    "Copyright©2020 lizhemin\n",
    "***"
   ]
  },
  {
   "cell_type": "markdown",
   "metadata": {
    "collapsed": true
   },
   "source": [
    "1.确定下列求积公式的待定参数，使其代数精确度尽量高，并指明所构造出的求积公式所具有的代数精度：\n",
    "\n",
    "(1)$\\int_{-h}^{h} f(x) d x \\approx A f(-h)+B f(0)+C f(h)$\n",
    "\n",
    "(2)$\\int_{-h}^{h} f(x) d x \\approx A f(-h)+B f\\left(x_{1}\\right)$\n",
    "\n",
    "(3)$\\int_{-2 h}^{2 h} f(x) \\mathrm{d} x \\approx A f(-h)+B f(0)+C f(h)$\n",
    "\n",
    "(4)$\\int_{0}^{1} f(x) \\mathrm{d} x \\approx A f(0)+B f\\left(x_{1}\\right)+C f(1)$\n",
    "\n",
    "(5)$\\int_{-1}^{1} f(x) \\mathrm{d} x \\approx \\frac{1}{3}\\left[f(-1)+2 f\\left(x_{1}\\right)+3 f\\left(x_{2}\\right)\\right]$\n",
    "\n",
    "分析：不记奇数和偶数的区别的话，就一个一个套，但心里至少得清楚至少有多少。\n",
    "***"
   ]
  },
  {
   "cell_type": "markdown",
   "metadata": {},
   "source": [
    "2.若用复合辛普森公式计算积分$\\int_1^3 e^x\\ln x dx$,要求截断误差不超过$\\frac{1}{2}\\times 10^{-4}$,问需计算多少个节点的函数值(不计舍入误差)。"
   ]
  },
  {
   "cell_type": "markdown",
   "metadata": {},
   "source": [
    "**分析**：代入公式\n",
    "$$R_{n}(f)=-\\frac{b-a}{180} h^{4} f^{(4)}(\\eta), \\quad h=\\frac{b-a}{2 a}, a<\\eta < b$$"
   ]
  },
  {
   "cell_type": "code",
   "execution_count": 16,
   "metadata": {},
   "outputs": [
    {
     "name": "stdout",
     "output_type": "stream",
     "text": [
      "(log(x) + 4/x - 6/x**2 + 8/x**3 - 6/x**4)*exp(x)\n"
     ]
    }
   ],
   "source": [
    "import sympy as sp\n",
    "#from sympy.plotting import plot\n",
    "x = sp.Symbol('x')\n",
    "f = sp.exp(x)*sp.log(x)\n",
    "f_4 = sp.diff(f,x,4)\n",
    "print(f_4)"
   ]
  },
  {
   "cell_type": "markdown",
   "metadata": {},
   "source": [
    "我们进行放缩即可得到$|R_n|$的upper bound\n",
    "***"
   ]
  },
  {
   "cell_type": "markdown",
   "metadata": {},
   "source": [
    "3.利用$n=2,3$的高斯-勒让德求积公式计算下列积分：\n",
    "\n",
    "(1)$\\int_{1}^{3} e^{x} \\sin x d x$\n",
    "\n",
    "(2)$\\int_{1}^{3} \\frac{1}{x} d x$"
   ]
  },
  {
   "cell_type": "markdown",
   "metadata": {},
   "source": [
    "**解**：$n=2$时，$x_k=\\pm 0.7745956692,0,A_k=\\frac{5}{9},\\frac{8}{9}$\n",
    "\n",
    "$n=3$时,$x_k=\\pm0.8611363116,\\pm0.3399810436,A_k=0.3478548451,0.6521454549$\n",
    "\n",
    "需要通过换元把函数化为区间$[-1,1]$上"
   ]
  },
  {
   "cell_type": "code",
   "execution_count": 21,
   "metadata": {},
   "outputs": [
    {
     "name": "stdout",
     "output_type": "stream",
     "text": [
      "f1,order 2\n",
      "-0.134254370209797\n",
      "f1,order 3\n",
      "-0.275293927759153\n",
      "f2,order 2\n",
      "-0.844903193603913\n",
      "f2,order 3\n",
      "-1.09857066257207\n"
     ]
    }
   ],
   "source": [
    "import numpy as np\n",
    "import sympy as sp\n",
    "\n",
    "x = sp.Symbol('x')\n",
    "\n",
    "def gl_int(f,n):\n",
    "    # f is your function,n is the integer order\n",
    "    if n == 2:\n",
    "        xi = [-0.7745956692,-0.7745956692,0]\n",
    "        yi = [5/9,5/9,8/9]\n",
    "    elif n==3:\n",
    "        xi = [-0.8611363116,0.8611363116,-0.3399810436,0.3399810436]\n",
    "        yi = [0.3478548451,0.3478548451,0.6521454549,0.6521454549]\n",
    "    else:\n",
    "        raise('the n=',n,' is not defined')\n",
    "    sum = 0\n",
    "    for i in range(len(xi)):\n",
    "        sum += yi[i]*f.evalf(subs={x:xi[i]})\n",
    "    return sum\n",
    "\n",
    "f1 = sp.exp(x-2)*sp.sin(x-2)\n",
    "f2 = 1/(x-2)\n",
    "print('f1,order 2')\n",
    "sp.pprint(gl_int(f1,2))\n",
    "print('f1,order 3')\n",
    "sp.pprint(gl_int(f1,3))\n",
    "print('f2,order 2')\n",
    "sp.pprint(gl_int(f2,2))\n",
    "print('f2,order 3')\n",
    "sp.pprint(gl_int(f2,3))\n"
   ]
  },
  {
   "cell_type": "markdown",
   "metadata": {},
   "source": [
    "4.证明$[a,b]$上以$\\rho(x)$为权的高斯型积分系数$A_k$满足\n",
    "$$\\sum_{k=0}^{n} A_{k}=\\int_{a}^{b} \\rho(x) d x$$\n",
    "\n",
    "***\n",
    "莫非没get到点?不是把$f(x)=1$带入得？\n",
    "***"
   ]
  },
  {
   "cell_type": "markdown",
   "metadata": {},
   "source": [
    "5.求$x_1,x_2,A_1,A_2$使公式$\\int_{0}^{1}-\\frac{1}{x} f(x) d x \\approx A_1 f\\left(x_{1}\\right)+A_2 f(x_2)$为高斯型公式"
   ]
  },
  {
   "cell_type": "markdown",
   "metadata": {},
   "source": [
    "**解：**求积节点是高斯点充要条件是在$[a,b]$上以这组节点为根得多项式与任何次数$\\leq n$的多项式$p(x)$带权$\\rho(x)$正交"
   ]
  },
  {
   "cell_type": "markdown",
   "metadata": {},
   "source": [
    "6.证明求积公式\n",
    "$$\\int_{-\\infty}^{-\\infty} e^{-x^{2}} f(x) \\mathrm{d} x \\approx \\frac{\\sqrt{\\pi}}{6}\\left[f\\left(-\\sqrt{\\frac{3}{2}}\\right)+4 f(0)+f\\left(\\sqrt{\\frac{3}{2}}\\right)\\right]$$\n",
    "具有5次代数精确度"
   ]
  },
  {
   "cell_type": "markdown",
   "metadata": {},
   "source": [
    "注意利用好奇偶性质，分步积分\n",
    "***"
   ]
  },
  {
   "cell_type": "markdown",
   "metadata": {},
   "source": [
    "7.利用自适应辛普森公式计算积分\n",
    "$$\\int_{1}^{10} \\ln x dx$$\n",
    "使它精确的$10^{-3}$"
   ]
  },
  {
   "cell_type": "markdown",
   "metadata": {},
   "source": [
    "**分析：**自适应算法根据精度确定节点数目的保守做法，可以节省工作量。\n",
    "$$S_{2}[a, a+h]=S_{1}\\left[a, a+\\frac{h}{2}\\right]+S_{1}\\left[a+\\frac{h}{2}, a+h\\right]$$\n",
    "$\\left|I[a, a+h]-S_{2}[a, \\quad a+h]\\right|$\n",
    "$$\n",
    "\\left.\\approx \\frac{1}{15} | S_{2}[a, a+h]-S_{1}[a, a+h]\\right\\}\n",
    "$$\n",
    "最后只需$\\left|S_{2}\\left[a_{1}, a_{i}+\\frac{h}{2^{r}}\\right]-S_{1}\\left[a_{i}, a_{i}+\\frac{h}{2^{r}}\\right]\\right| \\leqslant 15 \\frac{\\varepsilon}{2^{r}}$即可"
   ]
  },
  {
   "cell_type": "code",
   "execution_count": 4,
   "metadata": {},
   "outputs": [
    {
     "name": "stdout",
     "output_type": "stream",
     "text": [
      "14.0235504667189\n"
     ]
    }
   ],
   "source": [
    "import numpy as np\n",
    "import sympy as sp\n",
    "\n",
    "x = sp.Symbol('x')\n",
    "f = sp.log(x)\n",
    "def simpson(f,a,b):\n",
    "    fa = f.evalf(subs={x:a})\n",
    "    fab = f.evalf(subs={x:(a+b)/2})\n",
    "    fb = f.evalf(subs={x:b})\n",
    "    return (b-a)/6*(fa + 4*fab + fb)\n",
    "\n",
    "\n",
    "def ada_sim(f,a,b,error):\n",
    "    #adaptive simpson algorithm\n",
    "    delta = abs(simpson(f,a,b)-simpson(f,a,(a+b)/2)-simpson(f,(a+b)/2,b))\n",
    "    if delta < 15*error:\n",
    "        #print('ok')\n",
    "        return simpson(f,a,b)\n",
    "    else:\n",
    "        return ada_sim(f,a,(a+b)/2,error/2)+ada_sim(f,(a+b)/2,b,error/2)\n",
    "\n",
    "print(ada_sim(f=f,a=1,b=10,error=1e-3))\n",
    "\n",
    "\n"
   ]
  },
  {
   "cell_type": "markdown",
   "metadata": {},
   "source": [
    "8.计算下列奇异积分，准确到$10^{-4}$\n",
    "\n",
    "(1)$\\int_{0}^{1} \\frac{\\cos x}{\\sqrt{x}} d x$\n",
    "\n",
    "(2)$\\int_{0}^{1} \\frac{\\operatorname{arctg} x}{x^{3 / 2}} d x$"
   ]
  },
  {
   "cell_type": "markdown",
   "metadata": {},
   "source": [
    "(1)使用$x=t^2$替换得到$2\\int_0^1\\cos t^2 dt$\n",
    "\n",
    "(2)使用权函数为$\\frac{1}{\\sqrt{x}}$的求积公式,即勒让德求积公式。\n",
    "\n",
    "$I(f)=\\int_0^1\\frac{1}{\\sqrt{x}}f(x)dx=\\sum_{k=1}^n A_k f(x_k)+R_k[f]$"
   ]
  },
  {
   "cell_type": "code",
   "execution_count": 13,
   "metadata": {},
   "outputs": [
    {
     "name": "stdout",
     "output_type": "stream",
     "text": [
      "1.80900253150235\n"
     ]
    }
   ],
   "source": [
    "import sympy as sp\n",
    "x = sp.Symbol('x')\n",
    "\n",
    "def simpson(f,a,b):\n",
    "    fa = f.evalf(subs={x:a})\n",
    "    fab = f.evalf(subs={x:(a+b)/2})\n",
    "    fb = f.evalf(subs={x:b})\n",
    "    return (b-a)/6*(fa + 4*fab + fb)\n",
    "\n",
    "\n",
    "def ada_sim(f,a,b,error):\n",
    "    #adaptive simpson algorithm\n",
    "    delta = abs(simpson(f,a,b)-simpson(f,a,(a+b)/2)-simpson(f,(a+b)/2,b))\n",
    "    if delta < 15*error:\n",
    "        #print('ok')\n",
    "        return simpson(f,a,b)\n",
    "    else:\n",
    "        return ada_sim(f,a,(a+b)/2,error/2)+ada_sim(f,(a+b)/2,b,error/2)\n",
    "\n",
    "#f1 = sp.cos(x)/sp.sqrt(x)\n",
    "#print(ada_sim(f=f1,a=0,b=1,error=1e-4))\n",
    "f2 = 2*sp.cos((x)**2)\n",
    "print(ada_sim(f=f2,a=0,b=1,error=1e-4))\n",
    "#f3 = sp.atan(x/2+1/2)/(x**(3/2))\n",
    "#print(ada_sim(f=f3,a=0,b=1,error=1e-4))"
   ]
  },
  {
   "cell_type": "markdown",
   "metadata": {},
   "source": [
    "9.利用5点的高斯-切比雪夫公式，通过变量置换计算积分\n",
    "$$I=\\int_{0}^{1 / 3}\\frac{6x}{[x(1-3 x)]^{1 / 2}} d x$$\n",
    "\n",
    "**解：**令$x=\\frac{t+1}{6}$，则\n",
    "\n",
    "$\\int_{-1}^1\\frac{1}{6}\\frac{2\\sqrt{3}(t+1)}{\\sqrt{1-t^2}}dt$\n",
    "\n",
    "令$f(t)=\\frac{t+1}{\\sqrt{3}}$带入公式即可\n",
    "***"
   ]
  },
  {
   "cell_type": "markdown",
   "metadata": {},
   "source": [
    "10.将区间$[0,2\\pi]$三等分，分点$x_k=\\frac{2k\\pi}{3}(k=0,1,2,3)$,建立求积公式\n",
    "$$\\int_{a}^{2 x} f(x) \\sin m x d x \\approx A_{0} f\\left(x_{0}\\right)+\n",
    "A_{1} f\\left(x_{1}\\right)+A_{2} f\\left(x_{2}\\right)+A_{3} f\\left(x_{3}\\right)$$\n",
    "使当$f(x)=x^{n}(n=0,1,2,3)$精确成立，利用此公式计算积分$I=\\int_{0}^{2 \\pi} x \\cos x \\sin 30 x d x$(精确值$I=-0.20967243$)"
   ]
  },
  {
   "cell_type": "markdown",
   "metadata": {},
   "source": [
    "11.用辛普森公式计算二重积分\n",
    "$$\\int_{0}^{0.1} \\int_{0}^{0.1} e^{y-x} d x d y$$"
   ]
  },
  {
   "cell_type": "markdown",
   "metadata": {},
   "source": [
    "12.用复合辛普森公式计算二重积分\n",
    "\n",
    "$\\iint_{R} \\ln (x+2 y) d x d y$(其中$R=\\{(x, y) | 1 \\leqslant x \\leqslant 2,1 \\leqslant y \\leqslant x\\}$)\n",
    "$x$方向格长$h=0.25$,$y$方向$k=0.125$"
   ]
  },
  {
   "cell_type": "markdown",
   "metadata": {},
   "source": [
    "13.利用区间$[0,1]$上的三点高斯-勒让德求积公式，求积分方程\n",
    "\n",
    "$$y(x)=-\\int_{0}^{1} k(x, s) y(s) d s+x^{2}$$\n",
    "$$k(x, s)=\\left\\{\\begin{array}{ll}x(1-s), & 0 \\leqslant x \\leqslant s \\leqslant 1 \\\\ s(1-x), & 0 \\leqslant s \\leqslant x \\leqslant 1\\end{array}\\right.$$\n",
    "在节点$x_1,x_2,x_3$处的近似解$y_1,y_2,y_3$"
   ]
  },
  {
   "cell_type": "code",
   "execution_count": null,
   "metadata": {
    "collapsed": true
   },
   "outputs": [],
   "source": []
  }
 ],
 "metadata": {
  "kernelspec": {
   "display_name": "Python 3",
   "language": "python",
   "name": "python3"
  },
  "language_info": {
   "codemirror_mode": {
    "name": "ipython",
    "version": 3
   },
   "file_extension": ".py",
   "mimetype": "text/x-python",
   "name": "python",
   "nbconvert_exporter": "python",
   "pygments_lexer": "ipython3",
   "version": "3.6.2"
  }
 },
 "nbformat": 4,
 "nbformat_minor": 2
}
