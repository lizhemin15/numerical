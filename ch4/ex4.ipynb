{
 "cells": [
  {
   "cell_type": "markdown",
   "metadata": {
    "collapsed": true
   },
   "source": [
    "本节介绍了解线性方程组的直接法\n",
    "\n",
    "本文用到python的sympy库进行符号运算，\n",
    "可以到第一章进行了解。\n",
    "\n",
    "原创内容,如需转载需征得作者同意。\n",
    "\n",
    "Copyright©2020 lizhemin\n",
    "***"
   ]
  },
  {
   "cell_type": "markdown",
   "metadata": {
    "collapsed": true
   },
   "source": [
    "1.设$A\\in\\mathbb{R}^{n\\times n}$为对称正定阵，且经过高斯消去法这一步，$A$约化为\n",
    "$$\\left[\\begin{array}{ll}\n",
    "a_{11} & a_{1}^{T} \\\\\n",
    "0 & A_{2}\n",
    "\\end{array}\\right]$$\n",
    "求证：$A_2$也是对称正定阵。"
   ]
  },
  {
   "cell_type": "markdown",
   "metadata": {},
   "source": [
    "**证明：**\n",
    "\n",
    "不妨假设$LA = \\left[\\begin{array}{ll}\n",
    "a_{11} & a_{1}^{T} \\\\\n",
    "0 & A_{2}\n",
    "\\end{array}\\right]$,那么$LAL^T = \\left[\\begin{array}{ll}\n",
    "a_{11} & 0 \\\\\n",
    "0 & A_{2}\n",
    "\\end{array}\\right]$.\n",
    "\n",
    "由于$A$对称正定,则$A=BB^T$,那么$LAL^T=LBB^TL^T=LB(LB)^T$,必为对称正定.\n",
    "***"
   ]
  },
  {
   "cell_type": "markdown",
   "metadata": {},
   "source": [
    "2.设$A$为严格对角占优阵，即$|a_{ii}|>\\sum_{j=1,j\\neq i}^n|a_{ij}|(i=1,2,\\ldots,n),$且经过一步高斯消去法化为\n",
    "$$\\left[\\begin{array}{cc}\n",
    "a_{11} & a_{1}^{T} \\\\\n",
    "0 & A_{2}\n",
    "\\end{array}\\right]$$\n",
    "求证：$A_2$也是严格对角占优阵。"
   ]
  },
  {
   "cell_type": "markdown",
   "metadata": {},
   "source": [
    "由归纳法易得,写出$a_{22}'=a_{22}-\\frac{a_{21}}{a_{11}}\\cdot a_{12}>0$\n",
    "***"
   ]
  },
  {
   "cell_type": "markdown",
   "metadata": {},
   "source": [
    "3.设$L_k$是指标为$k$的初等下三角阵，且\n",
    "$$\\tilde{\\boldsymbol{L}}_{k}=\\boldsymbol{I}_{i j} \\boldsymbol{L}_{k} \\boldsymbol{I}_{i, j}(i, j, k)$$\n",
    "其中$\\boldsymbol{I}_{ij}$为初等置换阵，求证：$\\tilde{L}_k$也是指标为$k$的初等下三角阵。"
   ]
  },
  {
   "cell_type": "markdown",
   "metadata": {},
   "source": [
    "**分析:**用置换矩阵的性质，显然.\n",
    "\n",
    "或回到定义出发进行证明,$I_{ij}=I-(e_i-e_j)(e_i-e_j)^T$,$L_k=I-l_ke_k^T$\n",
    "***"
   ]
  },
  {
   "cell_type": "markdown",
   "metadata": {},
   "source": [
    "4.用选主元三角分解法求解\n",
    "$$\n",
    "\\left(\n",
    "\\begin{array}{lllllll}\n",
    "1&1&1&1&1&1&1\\\\\n",
    "2&1&1&1&1&1&1\\\\\n",
    "3&2&1&1&1&1&1\\\\\n",
    "4&3&2&1&1&1&1\\\\\n",
    "5&4&3&2&1&1&1\\\\\n",
    "6&5&4&3&2&1&1\\\\\n",
    "7&6&5&4&3&2&1\\\\\n",
    "\\end{array}\n",
    "\\right)\n",
    "\\left(\n",
    "\\begin{array}{l}\n",
    "x_1\\\\x_2\\\\x_3\\\\x_4\\\\x_5\\\\x_6\\\\x_7\\\\\n",
    "\\end{array}\n",
    "\\right)=\n",
    "\\left(\n",
    "\\begin{array}{l}\n",
    "7\\\\8\\\\10\\\\13\\\\17\\\\22\\\\28\\\\\n",
    "\\end{array}\n",
    "\\right)\n",
    "$$"
   ]
  },
  {
   "cell_type": "code",
   "execution_count": 34,
   "metadata": {},
   "outputs": [
    {
     "name": "stdout",
     "output_type": "stream",
     "text": [
      "real b: [[28]\n",
      " [ 3]\n",
      " [14]\n",
      " [ 9]\n",
      " [ 5]\n",
      " [ 1]\n",
      " [ 0]] b_calculate: [[28.]\n",
      " [ 3.]\n",
      " [14.]\n",
      " [ 9.]\n",
      " [ 5.]\n",
      " [ 1.]\n",
      " [ 0.]]\n"
     ]
    }
   ],
   "source": [
    "import numpy as np\n",
    "import copy\n",
    "\n",
    "def swap(a,b):\n",
    "    mid = copy.copy(a)\n",
    "    a = copy.copy(b)\n",
    "    b = copy.copy(mid)\n",
    "    return a,b\n",
    "\n",
    "def choose_max(A,b,i):\n",
    "    index = np.argmax(A[i:,i])+i\n",
    "    A[index,:],A[i,:] = swap(A[index,:],A[i,:])\n",
    "    b[index,:],b[i,:] = swap(b[index,:],b[i,:])\n",
    "    return A,b\n",
    "\n",
    "def minus(A,b,i):\n",
    "    m = A.shape[0]\n",
    "    \n",
    "    for j in range(i+1,m):\n",
    "        scale = A[j,i]/A[i,i]\n",
    "        #print(scale)\n",
    "        #print(A[j,:])\n",
    "        A[j,:] = A[j,:]-A[i,:]*scale\n",
    "        #print(A[j,:])\n",
    "        b[j,:] = b[j,:]-b[i,:]*scale\n",
    "    return A,b\n",
    "\n",
    "def solve_Ab(A,b):\n",
    "    n = A.shape[1]\n",
    "    x = np.zeros((n,1))\n",
    "    for i in range(n):\n",
    "        i = n-i-1\n",
    "        sum_ax = 0\n",
    "        for j in range(i,n):\n",
    "            sum_ax += A[i,j]*x[j]\n",
    "        x[i] = (b[i]-sum_ax)/A[i,i]\n",
    "    return x\n",
    "\n",
    "def main_solve(A,b):\n",
    "    # A:[m,n],b:[m,1] m>=n\n",
    "    if A.shape[0] != b.shape[0]:\n",
    "        raise('shape of A,b is not equal!')\n",
    "    m = A.shape[0]\n",
    "    n = A.shape[1]\n",
    "    for i in range(m-1):\n",
    "        A,b = choose_max(A,b,i)\n",
    "        A,b = minus(A,b,i)\n",
    "        #print(A)\n",
    "    #return A,b\n",
    "    return solve_Ab(A,b)\n",
    "    \n",
    "    \n",
    "\n",
    "A = np.ones((7,7))\n",
    "for i in range(7):\n",
    "    for j in range(7):\n",
    "        if i-j>0:\n",
    "            A[i,j] = i-j+1\n",
    "b = np.array([7,8,10,13,17,22,28]).reshape(-1,1)\n",
    "x = main_solve(A,b)\n",
    "\n",
    "b_cal = np.dot(A,x)\n",
    "print('real b:',b,'b_calculate:',b_cal)"
   ]
  },
  {
   "cell_type": "markdown",
   "metadata": {},
   "source": [
    "5.求证：\n",
    "\n",
    "(a)$\\|x\\|_\\infty\\leq\\|x\\|_1\\leq n\\|x\\|_\\infty$\n",
    "\n",
    "(b)$\\frac{1}{\\sqrt{n}}\\|A\\|_F\\leq \\|A\\|_2\\leq \\|A\\|_F$"
   ]
  },
  {
   "cell_type": "markdown",
   "metadata": {},
   "source": [
    "**证明：**\n",
    "\n",
    "(a)由定义显然\n",
    "\n",
    "(b)$\\left\\|A\\right\\|_F^2=\\sum_{i,j=1}^na_{ij}^2,\\left\\|A\\right\\|_2^2=\\lambda_{max}(A^TA)$\n",
    "\n",
    "而$tr(A^TA)=\\sum_{i=1}^na_{ii}^2=\\sum_{i=1}^n\\lambda_i$,剩下的显然.\n",
    "***"
   ]
  },
  {
   "cell_type": "markdown",
   "metadata": {},
   "source": [
    "6.设$A$为非奇异阵，求证：\n",
    "$$\n",
    "\\frac{1}{\\|A^{-1}\\|_\\infty}=\n",
    "min_{y\\neq 0}\\frac{\\|A y\\|_\\infty}{\\|y\\|_\\infty}\n",
    "$$"
   ]
  },
  {
   "cell_type": "markdown",
   "metadata": {},
   "source": [
    "**引理：**若$A^{-1}$存在,则$\\left\\|A\\right\\|_v=\\max\\frac{\\left\\|Ax\\right\\|_v}{\\left\\|x\\right\\|_v}=\\max\\frac{\\left\\|AA^{-1}x\\right\\|_v}{\\left\\|A^{-1}x\\right\\|_v}=\\max\\frac{\\left\\|x\\right\\|_v}{\\left\\|A^{-1}x\\right\\|_v}$\n",
    "***"
   ]
  },
  {
   "cell_type": "markdown",
   "metadata": {},
   "source": [
    "7.设$A$为$n$阶非奇异阵，求证：\n",
    "\n",
    "(a)$\\|x\\|_\\infty\\leq\\|x\\|_2\\leq n\\|x\\|_\\infty$\n",
    "\n",
    "(b)$\\frac{1}{\\sqrt{n}}\\|A\\|_2\\leq \\|A\\|_\\infty\\leq \\|A\\|_2$\n",
    "\n",
    "(c)$\\frac{1}{n}\\leq\\frac{cond(A)_\\infty}{cond(A)_2}\\leq n$"
   ]
  },
  {
   "cell_type": "markdown",
   "metadata": {},
   "source": [
    "前两个无需多言\n",
    "\n",
    "(c)$cond(A)_{\\infty}=\\left\\|A\\right\\|_{\\infty}\\left\\|A^{-1}\\right\\|_{\\infty}$\n",
    "结合(b),$\\frac{1}{n}\\left\\|A\\right\\|_2\\left\\|A^{-1}\\right\\|_2\\leq cond(A)_{\\infty}\\leq\\left\\|A\\right\\|_2\\left\\|A^{-1}\\right\\|_2$\n",
    "***"
   ]
  },
  {
   "cell_type": "markdown",
   "metadata": {},
   "source": [
    "8.设$A\\in\\mathbb{R}^{n\\times n}$非奇异矩阵，求证：\n",
    "\n",
    "(a)$cond(A^TA)_2=[cond(A)_2]^2$\n",
    "\n",
    "(b)$\\lambda(A^TA)=\\lambda(AA^T)$"
   ]
  },
  {
   "cell_type": "markdown",
   "metadata": {},
   "source": [
    "**证明：**\n",
    "\n",
    "(a)$B=A^TA=B^T,cond(B)_2=\\sqrt{\\frac{\\lambda_{max}(B^TB)}{\\lambda_{min}(B^TB)}}=\\sqrt{\\frac{\\lambda_{max}(B^2)}{\\lambda_{min}(B^2)}}=\\frac{\\lambda_{max}(B)}{\\lambda_{min}(B)}$\n",
    "\n",
    "(b)构造分块矩阵\n",
    "$$\n",
    "\\left(\n",
    "\\begin{array}{cc}\n",
    "\\lambda I_n&A\\\\\n",
    "A^T& I_n\n",
    "\\end{array}\n",
    "\\right)\n",
    "$$\n",
    "用两种方式把矩阵变成分块对角,计算行列式.\n",
    "***"
   ]
  },
  {
   "cell_type": "markdown",
   "metadata": {},
   "source": [
    "9.设$A\\in\\mathbb{R}^{n\\times n}$为严格对角占优阵，求证$A$有唯一三角分解：$A=LU$，其中$L$为单位下三角阵，$U$为上三角阵。"
   ]
  },
  {
   "cell_type": "markdown",
   "metadata": {},
   "source": [
    "**证明：**由于$A$严格对角占优,那么$L,U$均可逆,不妨假设不唯一,则$A=L_1U_1=L_2U_2$.\n",
    "\n",
    "$L_2^{-1}L_1=U_2U_1^{-1}$,由于单位下三角的逆和乘积还是单位下三角,上三角的逆和乘积也还是上三角,则$L_2^{-1}L_1=U_2U_1^{-1}=I$.\n",
    "***"
   ]
  },
  {
   "cell_type": "markdown",
   "metadata": {},
   "source": [
    "10.设$A\\in\\mathbb{R}^{n\\times n}$为非奇异矩阵，则存在正交阵$P_1,P_2,\\ldots,P_{n-1}$使\n",
    "$$\n",
    "P_{n-1}\\ldots P_2P_1A=L \\text{(为下三角阵)}\n",
    "$$\n",
    "且$A$有分解式：$A=QL$，其中$Q$为正交阵，$L$为下三角矩阵。"
   ]
  },
  {
   "cell_type": "markdown",
   "metadata": {},
   "source": [
    "**分析：**豪斯荷尔德变换能够把能量逐渐集中在一个地方,然后使用归纳法即可."
   ]
  },
  {
   "cell_type": "markdown",
   "metadata": {},
   "source": [
    "11.计算希尔伯特矩阵$H_4$的条件数$cond(H_4)_\\infty$"
   ]
  },
  {
   "cell_type": "code",
   "execution_count": 37,
   "metadata": {},
   "outputs": [
    {
     "name": "stdout",
     "output_type": "stream",
     "text": [
      "2.083333333333333\n",
      "140.00000000000955\n",
      "cond: 291.6666666666865\n"
     ]
    }
   ],
   "source": [
    "import numpy as np\n",
    "\n",
    "def infty_norm(A):\n",
    "    return np.max(np.sum(A,axis=0))\n",
    "\n",
    "H = np.zeros((4,4))\n",
    "for i in range(4):\n",
    "    for j in range(4):\n",
    "        H[i,j] = 1/(i+j+1)\n",
    "        \n",
    "H_inv = np.linalg.inv(H)\n",
    "print(infty_norm(H))\n",
    "print(infty_norm(H_inv))\n",
    "cond = infty_norm(H)*infty_norm(H_inv)\n",
    "print('cond:',cond)"
   ]
  },
  {
   "cell_type": "markdown",
   "metadata": {},
   "source": [
    "12.设$A$为非奇异矩阵，且$\\|A^{-1}\\|\\|\\delta A\\|<1$，求证$(A+\\delta A)^{-1}$存在，且有估计\n",
    "$$\\frac{\\| A^{-1}-(A+\\delta A)^{-1}\\|}{\\left\\|A^{-1}\\right\\|} \\leqslant \\frac{\\operatorname{cond}(A) \\frac{\\|\\delta A\\|}{\\|A\\|}}{1-\\operatorname{cond}(A) \\frac{\\|\\delta A\\|}{\\|A\\|}}$$"
   ]
  },
  {
   "cell_type": "markdown",
   "metadata": {
    "collapsed": true
   },
   "source": [
    "**证明：**$\\|A^{-1}\\delta A\\|\\leq\\|A^{-1}\\|\\|\\delta A\\|<1$,\n",
    "$(A+\\delta A)^{-1}=A^{-1}(I+A^{-1}\\delta A)^{-1}$,\n",
    "而$\\rho(A^{-1}\\delta A)^{-1})\\leq\\|A^{-1}\\delta A\\|< 1$,故可逆.\n",
    "\n",
    "左右都稍微凑凑很容易的,上面那个变形比较关键,最后一步用到逆的估计式(P178)."
   ]
  },
  {
   "cell_type": "code",
   "execution_count": null,
   "metadata": {
    "collapsed": true
   },
   "outputs": [],
   "source": []
  }
 ],
 "metadata": {
  "kernelspec": {
   "display_name": "Python 3",
   "language": "python",
   "name": "python3"
  },
  "language_info": {
   "codemirror_mode": {
    "name": "ipython",
    "version": 3
   },
   "file_extension": ".py",
   "mimetype": "text/x-python",
   "name": "python",
   "nbconvert_exporter": "python",
   "pygments_lexer": "ipython3",
   "version": "3.6.2"
  }
 },
 "nbformat": 4,
 "nbformat_minor": 2
}
