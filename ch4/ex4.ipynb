{
 "cells": [
  {
   "cell_type": "markdown",
   "metadata": {
    "collapsed": true
   },
   "source": [
    "本节介绍了数值积分\n",
    "\n",
    "本文用到python的sympy库进行符号运算，\n",
    "可以到第一章进行了解。\n",
    "\n",
    "原创内容,如需转载需征得作者同意。\n",
    "\n",
    "Copyright©2020 lizhemin\n",
    "***"
   ]
  },
  {
   "cell_type": "markdown",
   "metadata": {
    "collapsed": true
   },
   "source": [
    "1.设$A\\in\\mathbb{R}^{n\\times n}$为对称正定阵，且经过高斯消去法这一步，$A$约化为\n",
    "$$\\left[\\begin{array}{ll}\n",
    "a_{11} & a_{1}^{T} \\\\\n",
    "0 & A_{2}\n",
    "\\end{array}\\right]$$\n",
    "求证：$A_2$也是对称正定阵。"
   ]
  },
  {
   "cell_type": "markdown",
   "metadata": {},
   "source": [
    "2.设$A$为严格对角占优阵，即$|a_{ii}|>\\sum_{j=1,j\\neq i}^n|a_{ij}|(i=1,2,\\ldots,n),$且经过一步高斯消去法化为\n",
    "$$\\left[\\begin{array}{cc}\n",
    "a_{11} & a_{1}^{T} \\\\\n",
    "0 & A_{2}\n",
    "\\end{array}\\right]$$\n",
    "求证：$A_2$也是严格对角占优阵。"
   ]
  },
  {
   "cell_type": "markdown",
   "metadata": {},
   "source": [
    "3.设$L_k$是指标为$k$的初等下三角阵，且\n",
    "$$\\tilde{\\boldsymbol{L}}_{k}=\\boldsymbol{I}_{i j} \\boldsymbol{L}_{k} \\boldsymbol{I}_{i, j}(i, j, k)$$\n",
    "其中$\\boldsymbol{I}_{ij}$为初等置换阵，求证：$\\tilde{L}_k$也是指标为$k$的初等下三角阵。"
   ]
  },
  {
   "cell_type": "markdown",
   "metadata": {},
   "source": [
    "4.用选主元三角分解法求解\n",
    "$$\n",
    "\\left(\n",
    "\\begin{array}{lllllll}\n",
    "1&1&1&1&1&1&1\\\\\n",
    "2&1&1&1&1&1&1\\\\\n",
    "3&2&1&1&1&1&1\\\\\n",
    "4&3&2&1&1&1&1\\\\\n",
    "5&4&3&2&1&1&1\\\\\n",
    "6&5&4&3&2&1&1\\\\\n",
    "7&6&5&4&3&2&1\\\\\n",
    "\\end{array}\n",
    "\\right)\n",
    "\\left(\n",
    "\\begin{array}{l}\n",
    "x_1\\\\x_2\\\\x_3\\\\x_4\\\\x_5\\\\x_6\\\\x_7\\\\\n",
    "\\end{array}\n",
    "\\right)=\n",
    "\\left(\n",
    "\\begin{array}{l}\n",
    "7\\\\8\\\\10\\\\13\\\\17\\\\22\\\\28\\\\\n",
    "\\end{array}\n",
    "\\right)\n",
    "$$"
   ]
  },
  {
   "cell_type": "markdown",
   "metadata": {},
   "source": [
    "5.求证：\n",
    "\n",
    "(a)$\\|x\\|_\\infty\\leq\\|x\\|_1\\leq n\\|x\\|_\\infty$\n",
    "\n",
    "(b)$\\frac{1}{\\sqrt{n}}\\|A\\|_F\\leq \\|A\\|_2\\leq \\|A\\|_F$"
   ]
  },
  {
   "cell_type": "markdown",
   "metadata": {},
   "source": [
    "6.设$A$为非奇异阵，求证：\n",
    "$$\n",
    "\\frac{1}{\\|A^{-1}\\|_\\infty}=\n",
    "min_{y\\neq 0}\\frac{\\|A y\\|_\\infty}{\\|y\\|_\\infty}\n",
    "$$"
   ]
  },
  {
   "cell_type": "markdown",
   "metadata": {},
   "source": [
    "7.设$A$为$n$阶非奇异阵，求证：\n",
    "\n",
    "(a)$\\|x\\|_\\infty\\leq\\|x\\|_2\\leq n\\|x\\|_\\infty$\n",
    "\n",
    "(b)$\\frac{1}{\\sqrt{n}}\\|A\\|_2\\leq \\|A\\|_\\infty\\leq \\|A\\|_2$\n",
    "\n",
    "(c)$\\frac{1}{n}\\leq\\frac{cond(A)_\\infty}{cond(A)_2}\\leq n$"
   ]
  },
  {
   "cell_type": "markdown",
   "metadata": {},
   "source": [
    "8.设$A\\in\\mathbb{R}^{n\\times n}$非奇异矩阵，求证：\n",
    "\n",
    "(a)$cond(A^TA)_2=[cond(A)_2]^2$\n",
    "\n",
    "(b)$\\lambda(A^TA)=\\lambda(AA^T)$"
   ]
  },
  {
   "cell_type": "markdown",
   "metadata": {},
   "source": [
    "9.设$A\\in\\mathbb{R}^{n\\times n}$为严格对角占优阵，求证$A$有唯一三角分解：$A=LU$，其中$L$为单位下三角阵，$U$为上三角阵。"
   ]
  },
  {
   "cell_type": "markdown",
   "metadata": {},
   "source": [
    "10.设$A\\in\\mathbb{R}^{n\\times n}$为非奇异矩阵，则存在正交阵$P_1,P_2,\\ldots,P_{n-1}$使\n",
    "$$\n",
    "P_{n-1}\\ldots P_2P_1A=L \\text{(为下三角阵)}\n",
    "$$\n",
    "且$A$有分解式：$A=QL$，其中$Q$为正交阵，$L$为下三角矩阵。"
   ]
  },
  {
   "cell_type": "markdown",
   "metadata": {},
   "source": [
    "11.计算希尔伯特矩阵$H_4$的条件数$cond(H_4)_\\infty$"
   ]
  },
  {
   "cell_type": "markdown",
   "metadata": {},
   "source": [
    "12.设$A$为非奇异矩阵，且$\\|A^{-1}\\|\\|\\delta A\\|<1$，求证$(A+\\delta A)^{-1}$存在，且有估计\n",
    "$$\\frac{\\| A^{-1}-(A+\\delta A)^{-1}\\|}{\\left\\|A^{-1}\\right\\|} \\leqslant \\frac{\\operatorname{cond}(A) \\frac{\\|\\delta A\\|}{\\|A\\|}}{1-\\operatorname{cond}(A) \\frac{\\|\\delta A\\|}{\\|A\\|}}$$"
   ]
  },
  {
   "cell_type": "code",
   "execution_count": null,
   "metadata": {
    "collapsed": true
   },
   "outputs": [],
   "source": []
  }
 ],
 "metadata": {
  "kernelspec": {
   "display_name": "Python 3",
   "language": "python",
   "name": "python3"
  },
  "language_info": {
   "codemirror_mode": {
    "name": "ipython",
    "version": 3
   },
   "file_extension": ".py",
   "mimetype": "text/x-python",
   "name": "python",
   "nbconvert_exporter": "python",
   "pygments_lexer": "ipython3",
   "version": "3.6.2"
  }
 },
 "nbformat": 4,
 "nbformat_minor": 2
}
