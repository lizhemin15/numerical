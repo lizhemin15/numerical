{
 "cells": [
  {
   "cell_type": "markdown",
   "metadata": {
    "collapsed": true
   },
   "source": [
    "本节介绍了解非线性方程组解法与最优化方法\n",
    "\n",
    "本文用到python的sympy库进行符号运算，\n",
    "可以到第一章进行了解。\n",
    "\n",
    "原创内容,如需转载需征得作者同意。\n",
    "\n",
    "Copyright©2020 lizhemin\n",
    "***"
   ]
  },
  {
   "cell_type": "markdown",
   "metadata": {
    "collapsed": true
   },
   "source": [
    "1.定义$f:\\mathbb{R}^2\\rightarrow \\mathbb{R}^1$如下：$f\\left(x_{1}, x_{2}\\right)=\\left\\{\\begin{array}{cc}x_{1}&\\text{当}x_2=0 \\\\ x_{2}&\\text{当}x_1=0 \\\\ 1&\\text{其余}(x_1,x_2)\\end{array}\\right.$\n",
    "证明$\\frac{\\partial f(0)}{\\partial x_1}$及$\\frac{\\partial f(0)}{\\partial x_2}$均存在，但$f$在点$(0,0)$处不可导"
   ]
  },
  {
   "cell_type": "markdown",
   "metadata": {},
   "source": [
    "2.给出一个线性映射$B:\\mathbb{R}^2\\rightarrow \\mathbb{R}^2$和$\\mathbb{R}^2$上两种范数的例子，使得$B$对一种范数是压缩的，对另一种范数不是压缩的。"
   ]
  },
  {
   "cell_type": "markdown",
   "metadata": {},
   "source": [
    "3.若$G(x)=\\frac{1}{2}x+2$，证明$G$在$[0,1]$上是压缩的，但没有不动点。"
   ]
  },
  {
   "cell_type": "markdown",
   "metadata": {},
   "source": [
    "4.证明由$G(x)=ln(1+e^x)$定义的函数$G:\\mathbb{R}^1\\rightarrow\\mathbb{R}^1$，在任何闭区间$[a,b]$上是压缩的，但没有不动点。"
   ]
  },
  {
   "cell_type": "markdown",
   "metadata": {},
   "source": [
    "5.$G:\\mathbb{R}^1\\rightarrow\\mathbb{R}^1$定义为$G(x)=x-x^3$，证明$x^*=0$是$x^{k+1}=G(x^k)(k=0,1,\\ldots)$的一个吸引点；另一方面，若$G(x)=x+x^3$，证明$x=0$不是吸引点。"
   ]
  },
  {
   "cell_type": "markdown",
   "metadata": {},
   "source": [
    "6.设$G:\\mathbb{R}^2\\rightarrow\\mathbb{R}^2$定义为$G(x)=\\left[\\begin{array}{c}x_1^2-x_2\\\\x_2^2\\end{array}\\right]$，证明$x^*=0$是$x^{k+1}=G(x^k)(k=0,1,\\ldots)$的一个吸引点。"
   ]
  },
  {
   "cell_type": "markdown",
   "metadata": {},
   "source": [
    "7.用迭代法求$x^2-3=0$的根$\\sqrt{3}$时，可构造不同的迭代函数$G$，研究下列三种迭代序列的收敛性及收敛阶：(1)$x_{k+1}=\\frac{3}{x_k}$\n",
    "(2)$x_{k+1}=x_k-\\frac{1}{4}(x_k^2-3)$(3)$x_{k+1}=\\frac{1}{2}\\left(x_k+\\frac{3}{x_k}\\right)$"
   ]
  },
  {
   "cell_type": "markdown",
   "metadata": {},
   "source": [
    "8.序列$\\{x^k\\}$定义为$x^{(2i-1)}=\\frac{1}{i!},x^{(2i)}=2x^{(2i-1)},i=1,2,\\ldots$证明$\\lim_{k\\rightarrow \\infty}x^k=0$且$\\lim_{k\\rightarrow \\infty}\\frac{\\|x^{k+1}-x_k\\|}{\\|x_k-x^*\\|}=1$，但$\\{x^k\\}$不是超线性收敛的。"
   ]
  },
  {
   "cell_type": "markdown",
   "metadata": {},
   "source": [
    "9.给定非线性方程组$\\left\\{\\begin{array}{l}x_{1}=\\frac{x_{1}^{2}+x_{2}^{2}+8}{10}=g_{1}\\left(x_{1}, x_{2}\\right) \\\\ x_{2}=-\\frac{x_{1} x_{1}^{2}+x_{1}+8}{30}=g_{2}\\left(x_{1}, x_{2}\\right)\\end{array}\\right.$\n",
    "\n",
    "(a)应用压缩映射定理证明$G=(g_1,g_2)$在$D=\\{(x_1,x_2)|0\\leq x_1,x_2\\leq1.5\\}$中有唯一不动点\n",
    "\n",
    "(b)用不动点迭代法求方程组的解，使$\\|x^k-x^{k-1}\\|\\leq \\frac{1}{2}\\times 10^{-5}$时停止迭代\n"
   ]
  },
  {
   "cell_type": "markdown",
   "metadata": {},
   "source": [
    "10.用牛顿法求下列非线性方程组的解，迭代到$\\|x^k-x^{k-1}\\|\\leq\\frac{1}{2}\\times 10^{-5}$为止\n",
    "\n",
    "(a)$\\left\\{\\begin{array}{l}x_{1}^{2}+x_{2}^{2}-10 x_{1}+8=0 \\\\ x_{1} x^{2}+x_{1}-10 x_{2}+8=0\\end{array}\\right.$，取$x^0=(0.7,0.5)^T$\n",
    "\n",
    "(b)$\\left\\{\\begin{array}{l}3 x_{1}^{2}-x_{2}^{2}=0 \\\\ 3 x_{1} x_{2}^{3}-x_{1}^{3}-1=0\\end{array}\\right.$，取$x^0=(0.8,0.4)^T$\n",
    "\n",
    "(c)$\\left\\{\\begin{array}{l} x_{1}^{2}-x_{2}^{2}-4=0 \\\\  x_{1}^{2}-x_{2}^{2}-1=0\\end{array}\\right.$，取$x^0=(1.5,1.2)^T$"
   ]
  },
  {
   "cell_type": "markdown",
   "metadata": {},
   "source": [
    "11.用简化牛顿法及修正牛顿法(取$m=3$)求上题各方程组的解"
   ]
  },
  {
   "cell_type": "markdown",
   "metadata": {},
   "source": [
    "12.用牛顿下山法求下列方程组的解\n",
    "\n",
    "$\\left\\{\\begin{array}{l}x_{1}^{2}+10 x_{1} x_{2}+4 x_{2}^{2}+0.741006=0 \\\\ x_{1}^{2}-3 x_{1} x_{2}+2 x_{2}^{2}-1.0201228=0\\end{array}\\right.$\n",
    "取$x^0=(0.1,-0.1)^T$\n",
    "\n",
    "$\\|x^k-x^{k-1}\\|\\leq \\frac{1}{2}\\times 10^{-6}$，打印$x^k,\\|F(x^k)\\|_\\infty$及迭代次数$k$"
   ]
  },
  {
   "cell_type": "markdown",
   "metadata": {},
   "source": [
    "13.写出一步$N-SOR$迭代法与一步$SOR-N$迭代法，说明它们是不同的。"
   ]
  },
  {
   "cell_type": "markdown",
   "metadata": {},
   "source": [
    "14.设$A\\in\\mathbb{R}^{n\\times n},A^{-1}$存在，$u,v\\in\\mathbb{R}^n$，若$1+v^TA^{-1}u\\neq 0$，试证$\\left\\langle A+u v^{T}\\right)^{-1}=A^{-1}-\\frac{1}{\\sigma}\\left(A^{-1} u v^{T} A^{-1}\\right)$，其中$\\sigma=1+v^TA^{-1}u$"
   ]
  },
  {
   "cell_type": "markdown",
   "metadata": {},
   "source": [
    "15.用布罗伊登方法求下列方程组的数值解\n",
    "\n",
    "(a)$\\left\\{\\begin{array}{l}x_{1}+\\cos \\left(x_{1} x_{3} x_{3}\\right)-1=0 \\\\ \\left(1-x_{1}\\right)^{1 / 4}+x_{2}+0.05 x_{2}^{2}-0.15 x_{3}-1=0 \\\\ -x_{1}^{2}-0.1 x_{3}^{3}+0.01 x_{3}+x_{3}-1=0\\end{array}\\right.,x^0=(0.01,0.1,0.7)^T$\n",
    "\n",
    "(b)$\\left\\{\\begin{array}{l}4 x_{1}^{2}+x_{2}^{2}+2 x_{1} x_{2}-x_{2}-2=0 \\\\ 2 x_{1}^{2}+3 x_{1} x_{2}+x_{2}^{3}-3=0\\end{array}\\right.,x^0=(0.4,0.9)^T$\n",
    "迭代到$\\|x^k-x^{k-1}\\|\\leq\\frac{1}{2}\\times 10^{-5}$为止"
   ]
  },
  {
   "cell_type": "markdown",
   "metadata": {},
   "source": [
    "16.设$f:\\mathbb{R}^1\\rightarrow \\mathbb{R}^1$定义为$f(x)=x^2+x+1$，若同伦取$H(x,t)=tf(x)+(1-t)(x-x^0)$，当$x^0=1$时，求方程$H(x,t)=0$的解曲线$x=x(t)$"
   ]
  },
  {
   "cell_type": "markdown",
   "metadata": {},
   "source": [
    "17.若同伦(5.4)及解方程组的牛顿法，给出数值延拓法的计算公式。"
   ]
  },
  {
   "cell_type": "markdown",
   "metadata": {},
   "source": [
    "18.若同伦采用(5.4)，解常微分方程用二阶龙格-库塔法$y_{n+1}=y_n+\\frac{h}{2}[f(x_n,y_n)+f(x_n+h,y_n+hf(x_n,y_n))]$，试写出参数微分法解$F(x)=0$的计算公式。"
   ]
  },
  {
   "cell_type": "markdown",
   "metadata": {},
   "source": [
    "19.根据无约束最优化问题的必要条件和充分条件，求解下列问题\n",
    "\n",
    "(a)$\\min f(x)=2 x_{1}^{2}-2 x x_{2}+x_{2}^{2}+2 x_{1}-2 x_{2}$\n",
    "\n",
    "(b)$\\min f(x)=2 x_{1}^{3}-3 x_{1}^{2}-6 x_{1} x_{2}\\left(x_{1}-x_{2}-1\\right)$"
   ]
  },
  {
   "cell_type": "markdown",
   "metadata": {},
   "source": [
    "20.考虑无约束最优化问题\n",
    "$$\\min f(x)=3 x^{2}-2 x_{1} x_{2}+x_{2}^{2}+2 x_{1}-2 x_{1}$$\n",
    "取初始点$x^{(1)}=(0,0)^T$，用算法2求点列$\\{x^k\\}$，试验证\n",
    "$$x^{(2 m+1)}=\\left( 0,1-\\frac{1}{5^{m}}\\right)^{T}, m=0,1, \\cdots$$\n",
    "$$x^{(2 m)}=\\left(-\\frac{2}{5^{m}}, 1-\\frac{3}{5^{m}}\\right)^{T}, m=1,2, \\cdots$$"
   ]
  },
  {
   "cell_type": "markdown",
   "metadata": {},
   "source": [
    "21.用算法3求上题的解，精度要求$\\epsilon=10^{-3}$"
   ]
  },
  {
   "cell_type": "markdown",
   "metadata": {},
   "source": [
    "22.用BFGS算法求29题的解，精度要求$\\varepsilon=10^{-5}$"
   ]
  },
  {
   "cell_type": "markdown",
   "metadata": {},
   "source": [
    "23.设非线性最小二乘问题的数学模型为\n",
    "$$f\\left(t, x\\right)=\\frac{x_{1} x_{2} t_{1}}{1+x_{1} t_{1}+x_{2} t_{2}}$$\n",
    "用它拟合下列实验数据\n",
    "\n",
    "| $t_1$ \t| 1.0   \t| 2.0   \t| 1.0   \t| 2.0   \t| 0.1   \t|\n",
    "|-------\t|-------\t|-------\t|-------\t|-------\t|-------\t|\n",
    "| $t_2$ \t| 1.0   \t| 1.0   \t| 2.0   \t| 2.0   \t| 0.0   \t|\n",
    "| $f$   \t| 0.126 \t| 0.213 \t| 0.076 \t| 0.126 \t| 0.185 \t|\n",
    "\n",
    "试列出对应最小二乘方法的法方程，并用阻尼最小二乘法求问题的解，精度要求$\\varepsilon=10^{-2}$"
   ]
  },
  {
   "cell_type": "code",
   "execution_count": null,
   "metadata": {
    "collapsed": true
   },
   "outputs": [],
   "source": []
  }
 ],
 "metadata": {
  "kernelspec": {
   "display_name": "Python 3",
   "language": "python",
   "name": "python3"
  },
  "language_info": {
   "codemirror_mode": {
    "name": "ipython",
    "version": 3
   },
   "file_extension": ".py",
   "mimetype": "text/x-python",
   "name": "python",
   "nbconvert_exporter": "python",
   "pygments_lexer": "ipython3",
   "version": "3.6.2"
  }
 },
 "nbformat": 4,
 "nbformat_minor": 2
}
