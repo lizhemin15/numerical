{
 "cells": [
  {
   "cell_type": "markdown",
   "metadata": {
    "collapsed": true
   },
   "source": [
    "本节介绍了解大型稀疏线性方程组的迭代法\n",
    "\n",
    "本文用到python的sympy库进行符号运算，\n",
    "可以到第一章进行了解。\n",
    "\n",
    "原创内容,如需转载需征得作者同意。\n",
    "\n",
    "Copyright©2020 lizhemin\n",
    "***"
   ]
  },
  {
   "cell_type": "markdown",
   "metadata": {
    "collapsed": true
   },
   "source": [
    "1.用SOR方法解方程组(取$\\omega=1.03,\\omega=1,\\omega=1.1$)\n",
    "$$\n",
    "\\left\\{\n",
    "\\begin{array}{c}\n",
    "4x_1-x_2=1\\\\\n",
    "-x_1+4x_2-x_3=4\\\\\n",
    "-x_2+4x_3=-3\n",
    "\\end{array}\n",
    "\\right.\n",
    "$$\n",
    "要求当$\\left\\|x^*-x^{(k)}\\right\\|_{\\infty}<5\\times 10^{-6}$时迭代终止,其中$x^*=(0.5,1,-0.5)^T$,并对每一个$\\omega$值确定迭代次数."
   ]
  },
  {
   "cell_type": "markdown",
   "metadata": {},
   "source": [
    "2.设有方程组$Ax=b$,其中$A\\in\\mathbb{R}^{n\\times n}$为对称正定阵(且设$A$的特征值满足:$0<\\alpha\\leq\\lambda(A)\\leq \\beta$),又设有迭代法\n",
    "$$\n",
    "x^{(k+1)}=x^{(k)}+\\omega(b-Ax^{(k)})\\quad (k=0,1,\\ldots)\n",
    "$$\n",
    "求证：当$0<\\omega<\\frac{2}{\\beta}$时，上述迭代法收敛."
   ]
  },
  {
   "cell_type": "markdown",
   "metadata": {},
   "source": [
    "3.求证矩阵\n",
    "$$\n",
    "A=\\left(\n",
    "\\begin{array}{ccc}\n",
    "1&a&a\\\\\n",
    "a&1&a\\\\\n",
    "a&a&1\\\\\n",
    "\\end{array}\n",
    "\\right)\n",
    "$$\n",
    "对于$-0.5<a<1$时是正定的,当$-0.5<a<0.5$时,Jacobi迭代法解$Ax=b$是收敛的."
   ]
  },
  {
   "cell_type": "markdown",
   "metadata": {},
   "source": [
    "4.设有$Ax=b,A\\in\\mathbb{R}^{n\\times n}$，且设解$Ax=b$的Jacobi迭代法收敛及$0<\\omega\\leq 1$,又设有迭代法\n",
    "$$\n",
    "\\left\\{\n",
    "\\begin{array}{c}\n",
    "x^{(k+1)}=Bx^{(k)}+f\\\\\n",
    "\\text{其中}B=I-M^{-1}A,f=M^{-1}b,M=\\frac{1}{\\omega}D\n",
    "\\end{array}\n",
    "\\right.\n",
    "$$\n",
    "其中$A=D-L-U$(见2.2式)，求证：此迭代法收敛."
   ]
  },
  {
   "cell_type": "markdown",
   "metadata": {},
   "source": [
    "5.设$Ax=b$且$A\\in\\mathbb{R}^{n\\times n}$的特征值满足：$0<m\\leq\\lambda(A)\\leq M$,又设有迭代法\n",
    "$$\n",
    "X^{(k+1)}=x^{(k)}-\\omega\\left(A\\frac{x^{(k+1)}+x^{k}}{2}-b\\right)\n",
    "$$\n",
    "求证：当$\\omega>0$时，上述迭代法收敛."
   ]
  },
  {
   "cell_type": "markdown",
   "metadata": {},
   "source": [
    "6.设有$Ax=b,A\\in\\mathbb{R}^{n\\times n}$,且设$A$为严格对角占优阵，$0<\\omega\\leq 1$,求证解$Ax=b$的SOR方法收敛."
   ]
  },
  {
   "cell_type": "markdown",
   "metadata": {},
   "source": [
    "7.设$Ax=b$,或$f(x)=\\frac{1}{2}(Ax,x)-(b,x),A\\in\\mathbb{R}^{n\\times n}$为对称正定阵，又设$\\{x_k\\}$为cg方法产生的近似解序列，求证：\n",
    "$$\n",
    "f(x_{k+1})<f(x_k)\\quad (\\text{设}r_k\\neq 0)\n",
    "$$"
   ]
  },
  {
   "cell_type": "markdown",
   "metadata": {},
   "source": [
    "8.给定迭代法$x^{(k+1)}=Cx^{(k)}+g$,其中$C\\in\\mathbb{R}^{n\\times n}$,且设$C$特征值$\\lambda_i(C)=0(i=1,2,\\ldots,n)$,则此迭代法最多迭代n次并收敛到方程组的解."
   ]
  },
  {
   "cell_type": "markdown",
   "metadata": {},
   "source": [
    "9.试用cg方法求解下述方程组\n",
    "$$\n",
    "\\left(\n",
    "\\begin{array}{ccccccccc}\n",
    "4&-1&0&-1&0&0&0&0&0\\\\\n",
    "-1&4&-1&0&-1&0&0&0&0\\\\\n",
    "0&-1&4&0&0&-1&0&0&0\\\\\n",
    "-1&0&0&4&-1&0&-1&0&0\\\\\n",
    "0&-1&0&-1&4&-1&0&-1&0\\\\\n",
    "0&0&-1&0&-1&4&0&0&-1\\\\\n",
    "0&0&0&-1&0&0&4&-1&0\\\\\n",
    "0&0&0&0&-1&0&-1&4&-1\\\\\n",
    "0&0&0&0&0&-1&0&-1&4\\\\\n",
    "\\end{array}\n",
    "\\right)\n",
    "\\left(\n",
    "\\begin{array}{c}\n",
    "x_1\\\\\n",
    "x_2\\\\\n",
    "x_3\\\\\n",
    "x_4\\\\\n",
    "x_5\\\\\n",
    "x_6\\\\\n",
    "x_7\\\\\n",
    "x_8\\\\\n",
    "x_9\\\\\n",
    "\\end{array}\n",
    "\\right)=\n",
    "\\left(\n",
    "\\begin{array}{c}\n",
    "2\\\\\n",
    "1\\\\\n",
    "2\\\\\n",
    "1\\\\\n",
    "0\\\\\n",
    "1\\\\\n",
    "2\\\\\n",
    "1\\\\\n",
    "2\\\\\n",
    "\\end{array}\n",
    "\\right)\n",
    "$$"
   ]
  },
  {
   "cell_type": "markdown",
   "metadata": {},
   "source": [
    "10.设$Ax=b$，或$f(x)=\\frac{1}{2}(Ax,x)-(b,x)$，其中$A\\in\\mathbb{R}^{n\\times n}$为对称正定阵，又设$\\{x_k\\},\\{p_k\\}$为cg方法产生的近似解序列及共轭方向序列，记$S_k=\\{x|x=x_0+\\sum_{i=0}^{k-1}a_ip_i\\}$,$a_i$为实数，求证：$\\min_{x\\in S_k}f(x)=f(x_k)$"
   ]
  },
  {
   "cell_type": "code",
   "execution_count": null,
   "metadata": {
    "collapsed": true
   },
   "outputs": [],
   "source": []
  }
 ],
 "metadata": {
  "kernelspec": {
   "display_name": "Python 3",
   "language": "python",
   "name": "python3"
  },
  "language_info": {
   "codemirror_mode": {
    "name": "ipython",
    "version": 3
   },
   "file_extension": ".py",
   "mimetype": "text/x-python",
   "name": "python",
   "nbconvert_exporter": "python",
   "pygments_lexer": "ipython3",
   "version": "3.6.2"
  }
 },
 "nbformat": 4,
 "nbformat_minor": 2
}
