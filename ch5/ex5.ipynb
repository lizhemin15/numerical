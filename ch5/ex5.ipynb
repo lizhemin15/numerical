{
 "cells": [
  {
   "cell_type": "markdown",
   "metadata": {
    "collapsed": true
   },
   "source": [
    "本节介绍了解大型稀疏线性方程组的迭代法\n",
    "\n",
    "本文用到python的sympy库进行符号运算，\n",
    "可以到第一章进行了解。\n",
    "\n",
    "原创内容,如需转载需征得作者同意。\n",
    "\n",
    "Copyright©2020 lizhemin\n",
    "***"
   ]
  },
  {
   "cell_type": "markdown",
   "metadata": {
    "collapsed": true
   },
   "source": [
    "1.用SOR方法解方程组(取$\\omega=1.03,\\omega=1,\\omega=1.1$)\n",
    "$$\n",
    "\\left\\{\n",
    "\\begin{array}{c}\n",
    "4x_1-x_2=1\\\\\n",
    "-x_1+4x_2-x_3=4\\\\\n",
    "-x_2+4x_3=-3\n",
    "\\end{array}\n",
    "\\right.\n",
    "$$\n",
    "要求当$\\left\\|x^*-x^{(k)}\\right\\|_{\\infty}<5\\times 10^{-6}$时迭代终止,其中$x^*=(0.5,1,-0.5)^T$,并对每一个$\\omega$值确定迭代次数."
   ]
  },
  {
   "cell_type": "code",
   "execution_count": 14,
   "metadata": {},
   "outputs": [
    {
     "name": "stdout",
     "output_type": "stream",
     "text": [
      "omega= 1.03 ,ite= 13\n",
      "omega= 1 ,ite= 12\n",
      "omega= 1.1 ,ite= 17\n"
     ]
    }
   ],
   "source": [
    "import numpy as np\n",
    "import copy\n",
    "\n",
    "def DLU(A):\n",
    "    # Input matrix n\\times n\n",
    "    n = A.shape[0]\n",
    "    D = np.zeros((n,n))\n",
    "    L = np.zeros((n,n))\n",
    "    U = np.zeros((n,n))\n",
    "    for i in range(n):\n",
    "        for j in range(n):\n",
    "            if i==j:\n",
    "                D[i,i] = A[i,i]\n",
    "            elif i>j:\n",
    "                L[i,j] = -A[i,j]\n",
    "            else:\n",
    "                U[i,j] = -A[i,j]\n",
    "    return D,L,U\n",
    "\n",
    "def SOR(A,b,epsilon,omega=1):\n",
    "    k = 0\n",
    "    N = A.shape[0]\n",
    "    x = np.zeros((N,1))\n",
    "    while k==0 or abs(P0)>=epsilon:\n",
    "        P0 = 0\n",
    "        Ax = np.dot(A,x)\n",
    "        for i in range(N):\n",
    "            #Remark, this formula is a little different from book, I think algorithm on book have some wrong.\n",
    "            dx = omega/A[i,i]*(b[i]-Ax[i])\n",
    "            P = copy.copy(dx)\n",
    "            if abs(P)>abs(P0):\n",
    "                P0 = copy.copy(P)\n",
    "            x[i] = x[i]+P\n",
    "        k += 1\n",
    "    return k-1,omega,x\n",
    "\n",
    "A = np.array([[4,-1,0],[-1,4,-1],[0,-1,4]])\n",
    "b = np.array([[1],[4],[-3]])\n",
    "for omega in [1.03,1,1.1]:\n",
    "    ite,ome,x = SOR(A,b,epsilon=5e-6,omega=omega)\n",
    "    print('omega=',omega,',ite=',ite)\n",
    "\n",
    "        "
   ]
  },
  {
   "cell_type": "markdown",
   "metadata": {},
   "source": [
    "2.设有方程组$Ax=b$,其中$A\\in\\mathbb{R}^{n\\times n}$为对称正定阵(且设$A$的特征值满足:$0<\\alpha\\leq\\lambda(A)\\leq \\beta$),又设有迭代法\n",
    "$$\n",
    "x^{(k+1)}=x^{(k)}+\\omega(b-Ax^{(k)})\\quad (k=0,1,\\ldots)\n",
    "$$\n",
    "求证：当$0<\\omega<\\frac{2}{\\beta}$时，上述迭代法收敛."
   ]
  },
  {
   "cell_type": "markdown",
   "metadata": {},
   "source": [
    "**证明：**迭代法收敛通常都是验证谱半径小于1\n",
    "\n",
    "考察矩阵$I-\\omega A$,不难得到特征值为$1-\\omega \\lambda$\n",
    "***"
   ]
  },
  {
   "cell_type": "markdown",
   "metadata": {},
   "source": [
    "3.求证矩阵\n",
    "$$\n",
    "A=\\left(\n",
    "\\begin{array}{ccc}\n",
    "1&a&a\\\\\n",
    "a&1&a\\\\\n",
    "a&a&1\\\\\n",
    "\\end{array}\n",
    "\\right)\n",
    "$$\n",
    "对于$-0.5<a<1$时是正定的,当$-0.5<a<0.5$时,Jacobi迭代法解$Ax=b$是收敛的."
   ]
  },
  {
   "cell_type": "markdown",
   "metadata": {},
   "source": [
    "**证明：**\n",
    "$$\n",
    "A=\\left(\n",
    "\\begin{array}{ccc}\n",
    "1&a&a\\\\\n",
    "a&1&a\\\\\n",
    "a&a&1\\\\\n",
    "\\end{array}\n",
    "\\right)\n",
    "=\\left(\n",
    "\\begin{array}{ccc}\n",
    "a&a&a\\\\\n",
    "a&a&a\\\\\n",
    "a&a&a\\\\\n",
    "\\end{array}\n",
    "\\right)\n",
    "+\\left(\n",
    "\\begin{array}{ccc}\n",
    "1-a&0&0\\\\\n",
    "0&1-a&0\\\\\n",
    "0&0&1-a\\\\\n",
    "\\end{array}\n",
    "\\right)\n",
    "$$\n",
    "故$A$的特征值为$1+2a,1-a,1-a$\n",
    "正定即全大于零，收敛再加上严格对角占优\n",
    "***"
   ]
  },
  {
   "cell_type": "markdown",
   "metadata": {},
   "source": [
    "4.设有$Ax=b,A\\in\\mathbb{R}^{n\\times n}$，且设解$Ax=b$的Jacobi迭代法收敛及$0<\\omega\\leq 1$,又设有迭代法\n",
    "$$\n",
    "\\left\\{\n",
    "\\begin{array}{c}\n",
    "x^{(k+1)}=Bx^{(k)}+f\\\\\n",
    "\\text{其中}B=I-M^{-1}A,f=M^{-1}b,M=\\frac{1}{\\omega}D\n",
    "\\end{array}\n",
    "\\right.\n",
    "$$\n",
    "其中$A=D-L-U$(见2.2式)，求证：此迭代法收敛."
   ]
  },
  {
   "cell_type": "markdown",
   "metadata": {},
   "source": [
    "**证明**：高代学得好，矩阵像割草。\n",
    "\n",
    "不难得，原来的迭代法$B_0=D^{-1}(L+U)=D^{-1}(A-D)$,对应的特征值绝对值满足$\\left|1-\\lambda(D^{-1}A)\\right|<1\\Rightarrow 0<\\lambda(D^{-1}A)<2$.\n",
    "\n",
    "考察$B=I-\\omega\\cdot D^{-1}A$,$\\left|1-\\omega\\cdot\\lambda(D^{-1}A)\\right|<1$不难得,则收敛得证.\n",
    "***"
   ]
  },
  {
   "cell_type": "markdown",
   "metadata": {},
   "source": [
    "5.设$Ax=b$且$A\\in\\mathbb{R}^{n\\times n}$的特征值满足：$0<m\\leq\\lambda(A)\\leq M$,又设有迭代法\n",
    "$$\n",
    "x^{(k+1)}=x^{(k)}-\\omega\\left(A\\frac{x^{(k+1)}+x^{k}}{2}-b\\right)\n",
    "$$\n",
    "求证：当$\\omega>0$时，上述迭代法收敛."
   ]
  },
  {
   "cell_type": "markdown",
   "metadata": {},
   "source": [
    "**证明：**即考虑$det(\\lambda I-B)=0$，当$\\omega>0$时$|\\lambda|<1$"
   ]
  },
  {
   "cell_type": "markdown",
   "metadata": {},
   "source": [
    "6.设有$Ax=b,A\\in\\mathbb{R}^{n\\times n}$,且设$A$为严格对角占优阵，$0<\\omega\\leq 1$,求证解$Ax=b$的SOR方法收敛."
   ]
  },
  {
   "cell_type": "markdown",
   "metadata": {},
   "source": [
    "**证明：**回归定义，考虑$|\\lambda|\\geq 1$时会使得迭代矩阵严格对角占优\n",
    "***"
   ]
  },
  {
   "cell_type": "markdown",
   "metadata": {},
   "source": [
    "7.设$Ax=b$,或$f(x)=\\frac{1}{2}(Ax,x)-(b,x),A\\in\\mathbb{R}^{n\\times n}$为对称正定阵，又设$\\{x_k\\}$为cg方法产生的近似解序列，求证：\n",
    "$$\n",
    "f(x_{k+1})<f(x_k)\\quad (\\text{设}r_k\\neq 0)\n",
    "$$"
   ]
  },
  {
   "cell_type": "markdown",
   "metadata": {
    "collapsed": true
   },
   "source": [
    "**证明：**记$e_k=x^*-x_k$，考虑范数$\\|\\dot\\|_{A}$，证明在该范数意义下，$f$关于$\\|e_k\\|_{A}$单调递增。\n",
    "\n",
    "再证明$\\|e_k\\|_{A}$随着$k$增大严格单调递减即可($r_k\\neq 0$)"
   ]
  },
  {
   "cell_type": "markdown",
   "metadata": {},
   "source": [
    "8.给定迭代法$x^{(k+1)}=Cx^{(k)}+g$,其中$C\\in\\mathbb{R}^{n\\times n}$,且设$C$特征值$\\lambda_i(C)=0(i=1,2,\\ldots,n)$,则此迭代法最多迭代n次并收敛到方程组的解."
   ]
  },
  {
   "cell_type": "markdown",
   "metadata": {},
   "source": [
    "**证明：**写出若当标准型\n",
    "***"
   ]
  },
  {
   "cell_type": "markdown",
   "metadata": {},
   "source": [
    "9.试用cg方法求解下述方程组\n",
    "$$\n",
    "\\left(\n",
    "\\begin{array}{ccccccccc}\n",
    "4&-1&0&-1&0&0&0&0&0\\\\\n",
    "-1&4&-1&0&-1&0&0&0&0\\\\\n",
    "0&-1&4&0&0&-1&0&0&0\\\\\n",
    "-1&0&0&4&-1&0&-1&0&0\\\\\n",
    "0&-1&0&-1&4&-1&0&-1&0\\\\\n",
    "0&0&-1&0&-1&4&0&0&-1\\\\\n",
    "0&0&0&-1&0&0&4&-1&0\\\\\n",
    "0&0&0&0&-1&0&-1&4&-1\\\\\n",
    "0&0&0&0&0&-1&0&-1&4\\\\\n",
    "\\end{array}\n",
    "\\right)\n",
    "\\left(\n",
    "\\begin{array}{c}\n",
    "x_1\\\\\n",
    "x_2\\\\\n",
    "x_3\\\\\n",
    "x_4\\\\\n",
    "x_5\\\\\n",
    "x_6\\\\\n",
    "x_7\\\\\n",
    "x_8\\\\\n",
    "x_9\\\\\n",
    "\\end{array}\n",
    "\\right)=\n",
    "\\left(\n",
    "\\begin{array}{c}\n",
    "2\\\\\n",
    "1\\\\\n",
    "2\\\\\n",
    "1\\\\\n",
    "0\\\\\n",
    "1\\\\\n",
    "2\\\\\n",
    "1\\\\\n",
    "2\\\\\n",
    "\\end{array}\n",
    "\\right)\n",
    "$$"
   ]
  },
  {
   "cell_type": "code",
   "execution_count": 26,
   "metadata": {},
   "outputs": [
    {
     "name": "stdout",
     "output_type": "stream",
     "text": [
      "[[ 4. -1.  0. -1.  0.  0.  0.  0.  0.]\n",
      " [-1.  4. -1.  0. -1.  0.  0.  0.  0.]\n",
      " [ 0. -1.  4.  0.  0. -1.  0.  0.  0.]\n",
      " [-1.  0.  0.  4. -1.  0. -1.  0.  0.]\n",
      " [ 0. -1.  0. -1.  4. -1.  0. -1.  0.]\n",
      " [ 0.  0. -1.  0. -1.  4.  0.  0. -1.]\n",
      " [ 0.  0.  0. -1.  0.  0.  4. -1.  0.]\n",
      " [ 0.  0.  0.  0. -1.  0. -1.  4. -1.]\n",
      " [ 0.  0.  0.  0.  0. -1.  0. -1.  4.]]\n",
      "[[2]\n",
      " [1]\n",
      " [2]\n",
      " [1]\n",
      " [0]\n",
      " [1]\n",
      " [2]\n",
      " [1]\n",
      " [2]]\n",
      "[[-4.44089210e-16]\n",
      " [-8.88178420e-16]\n",
      " [-4.44089210e-16]\n",
      " [-8.88178420e-16]\n",
      " [ 8.88178420e-16]\n",
      " [-6.66133815e-16]\n",
      " [-4.44089210e-16]\n",
      " [-6.66133815e-16]\n",
      " [-4.44089210e-16]]\n"
     ]
    }
   ],
   "source": [
    "import numpy as np\n",
    "import copy \n",
    "\n",
    "def cg(A,b,epsilon):\n",
    "    n = A.shape[0]\n",
    "    xk = np.zeros((n,1))\n",
    "    rk = b-np.dot(A,xk)\n",
    "    pk = copy.copy(rk)\n",
    "    for k in range(n):\n",
    "        ak = np.dot(rk.T,rk)/np.dot(pk.T,np.dot(A,pk))\n",
    "        xkk = xk+ak*pk\n",
    "        rkk = rk-ak*np.dot(A,pk)\n",
    "        if np.sqrt(np.sum(rkk**2))/np.sqrt(np.sum(b**2)) < epsilon:\n",
    "            #print(np.sqrt(np.sum(rkk**2))/np.sqrt(np.sum(b**2)))\n",
    "            break\n",
    "        bk = np.dot(rkk.T,rkk)/np.dot(rk.T,rk)\n",
    "        pkk = rkk+bk*pk\n",
    "        xk = copy.copy(xkk)\n",
    "        rk = copy.copy(rkk)\n",
    "        pk = copy.copy(pkk)\n",
    "    return xkk,rkk,k\n",
    "\n",
    "\n",
    "A = np.zeros((9,9))\n",
    "block_1 = np.array([[4,-1,0],[-1,4,-1],[0,-1,4]])\n",
    "block_2 = np.array([[-1,0,0],[0,-1,0],[0,0,-1]])\n",
    "for i in range(3):\n",
    "    for j in range(3):\n",
    "        if i==j:\n",
    "            A[3*i:3*(i+1),3*j:3*(j+1)] = block_1\n",
    "        elif abs(i-j)==1:\n",
    "            A[3*i:3*(i+1),3*j:3*(j+1)] = block_2\n",
    "        else:\n",
    "            A[3*i:3*(i+1),3*j:3*(j+1)] = np.zeros((3,3))\n",
    "print(A)\n",
    "b = np.array([2,1,2,1,0,1,2,1,2]).reshape((-1,1))\n",
    "print(b)\n",
    "x,r,k = cg(A,b,1e-5)\n",
    "print(b-np.dot(A,x))\n",
    "\n"
   ]
  },
  {
   "cell_type": "markdown",
   "metadata": {},
   "source": [
    "10.设$Ax=b$，或$f(x)=\\frac{1}{2}(Ax,x)-(b,x)$，其中$A\\in\\mathbb{R}^{n\\times n}$为对称正定阵，又设$\\{x_k\\},\\{p_k\\}$为cg方法产生的近似解序列及共轭方向序列，记$S_k=\\{x|x=x_0+\\sum_{i=0}^{k-1}a_ip_i\\}$,$a_i$为实数，求证：$\\min_{x\\in S_k}f(x)=f(x_k)$"
   ]
  },
  {
   "cell_type": "markdown",
   "metadata": {
    "collapsed": true
   },
   "source": [
    "**分析：**记$e_k=x^*-x_k$，则$e_k$在$\\{p_0,p_1,\\ldots,p_{k-1}\\}$张成的空间中，\n",
    "可线性表出，再证明求函数最小等价于找$e_k$为零的时候，然后利用$x_k=x^*-e_k$，\n",
    "带入$f(x_k)$拆开，得到最小的时候系数$a_i$需要与$x_k$的$p_i$系数一致。"
   ]
  },
  {
   "cell_type": "code",
   "execution_count": null,
   "metadata": {
    "collapsed": true
   },
   "outputs": [],
   "source": []
  }
 ],
 "metadata": {
  "kernelspec": {
   "display_name": "Python 3",
   "language": "python",
   "name": "python3"
  },
  "language_info": {
   "codemirror_mode": {
    "name": "ipython",
    "version": 3
   },
   "file_extension": ".py",
   "mimetype": "text/x-python",
   "name": "python",
   "nbconvert_exporter": "python",
   "pygments_lexer": "ipython3",
   "version": "3.6.2"
  }
 },
 "nbformat": 4,
 "nbformat_minor": 2
}
